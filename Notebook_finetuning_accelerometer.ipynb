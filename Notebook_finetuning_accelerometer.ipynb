{
 "cells": [
  {
   "attachments": {},
   "cell_type": "markdown",
   "metadata": {},
   "source": [
    "## **Multi Modal Self-Supervised Fusion**\n",
    "**- Fine tuning the MMFusion model (ConvRNN_Model.pth)**"
   ]
  },
  {
   "cell_type": "code",
   "execution_count": 1,
   "metadata": {},
   "outputs": [],
   "source": [
    "import numpy as np\n",
    "import os \n",
    "from pathlib import Path\n",
    "from tqdm import tqdm\n",
    "from sklearn.model_selection import train_test_split\n",
    "import random\n",
    "import torch\n",
    "import tensorflow as tf\n",
    "import torchvision.transforms as transforms\n",
    "import torch.nn as nn\n",
    "from torch.utils.data import Dataset, DataLoader\n",
    "import torch.optim as optim\n",
    "from sources import utils_spec, loss, models, MMFusion_Model\n",
    "import matplotlib.pyplot as plt"
   ]
  },
  {
   "cell_type": "markdown",
   "metadata": {},
   "source": [
    "### **A) Define the touchgesture model:**"
   ]
  },
  {
   "cell_type": "code",
   "execution_count": 2,
   "metadata": {},
   "outputs": [],
   "source": [
    "device = torch.device('cuda' if torch.cuda.is_available() else 'cpu')\n",
    "touchModel = MMFusion_Model.TouchGestureModel(input_size=4, hidden_size=256, seq_length=1250, num_layers=2, batch_size=16, num_classes=100).to(device)"
   ]
  },
  {
   "cell_type": "markdown",
   "metadata": {},
   "source": [
    "### **B) Define the spectrogram model:**"
   ]
  },
  {
   "cell_type": "code",
   "execution_count": 3,
   "metadata": {},
   "outputs": [],
   "source": [
    "specModel = MMFusion_Model.SpectrogramModel(num_classes=100).to(device)"
   ]
  },
  {
   "cell_type": "code",
   "execution_count": 4,
   "metadata": {},
   "outputs": [],
   "source": [
    "def testSpec(model, input):\n",
    "    x = input.to(device)\n",
    "    y0 = model(x)\n",
    "    print(\"Output shape of spectrogram model: \\n\", y0.shape)\n",
    "    print(y0)\n",
    "    return y0\n",
    "\n",
    "def testTouch(model, in_planes):\n",
    "    x = torch.randn(16, in_planes, 1250)\n",
    "    x = x.to(device)\n",
    "    y0 = model(x)\n",
    "    print(\"output shape of touch model: \\n\", y0.shape)\n",
    "    print(y0)\n",
    "    return y0"
   ]
  },
  {
   "cell_type": "code",
   "execution_count": 5,
   "metadata": {},
   "outputs": [
    {
     "name": "stdout",
     "output_type": "stream",
     "text": [
      "Output shape of spectrogram model: \n",
      " torch.Size([16, 256])\n",
      "tensor([[ 0.0440, -0.4741, -0.2110,  ..., -0.1336, -0.6886, -0.4825],\n",
      "        [-0.6946, -0.0203,  0.6839,  ..., -0.5639,  0.1881, -0.8255],\n",
      "        [ 0.0488, -0.2658, -0.3477,  ..., -0.3384, -0.4335, -1.2356],\n",
      "        ...,\n",
      "        [-0.6628, -0.0395, -0.2687,  ..., -0.1668, -0.1266, -0.5085],\n",
      "        [-0.5367, -0.1633, -0.3225,  ..., -0.2500, -0.9152, -0.4351],\n",
      "        [-0.1741,  0.1393, -0.7008,  ..., -0.3758, -0.3944, -0.2097]],\n",
      "       device='cuda:0', grad_fn=<AddmmBackward0>)\n",
      "output shape of touch model: \n",
      " torch.Size([16, 256])\n",
      "tensor([[ 0.1224,  0.1956,  0.2850,  ...,  0.2926, -0.4099,  0.4273],\n",
      "        [ 0.5265, -0.0533, -0.0638,  ..., -0.4958,  0.0815,  0.2965],\n",
      "        [ 0.3575, -0.1108,  0.1402,  ..., -0.7650, -0.3673,  0.5431],\n",
      "        ...,\n",
      "        [ 0.2877,  0.3885,  0.6710,  ...,  0.1079, -0.1501,  0.5529],\n",
      "        [ 0.4358, -0.4457,  0.3508,  ..., -0.4742,  0.4802,  0.1115],\n",
      "        [ 0.0986, -0.1324,  0.3988,  ..., -0.1912, -0.2649, -0.2095]],\n",
      "       device='cuda:0', grad_fn=<SliceBackward0>)\n"
     ]
    }
   ],
   "source": [
    "x_spec = torch.randn(16, 3, 65, 71)\n",
    "y_spec = testSpec(specModel, input = x_spec)\n",
    "y_touch = testTouch(touchModel, in_planes=4)"
   ]
  },
  {
   "cell_type": "code",
   "execution_count": 6,
   "metadata": {},
   "outputs": [
    {
     "name": "stdout",
     "output_type": "stream",
     "text": [
      "userID 0\n"
     ]
    },
    {
     "name": "stderr",
     "output_type": "stream",
     "text": [
      "100%|██████████| 13/13 [00:10<00:00,  1.23it/s]\n"
     ]
    },
    {
     "name": "stdout",
     "output_type": "stream",
     "text": [
      "userID 1\n"
     ]
    },
    {
     "name": "stderr",
     "output_type": "stream",
     "text": [
      "100%|██████████| 13/13 [00:09<00:00,  1.39it/s]"
     ]
    },
    {
     "name": "stdout",
     "output_type": "stream",
     "text": [
      "(26, 10000, 3)\n",
      "(26, 10000, 4)\n",
      "(26,)\n"
     ]
    },
    {
     "name": "stderr",
     "output_type": "stream",
     "text": [
      "\n"
     ]
    }
   ],
   "source": [
    "Logs, touch_ds, y = utils_spec.dataGenerator(numUsers=1, pretraining=True, evaluation=False)"
   ]
  },
  {
   "cell_type": "markdown",
   "metadata": {},
   "source": [
    "### Shape of Logs: (2, 10000, 3), because I have computed the norm for each sensor before loading them"
   ]
  },
  {
   "cell_type": "code",
   "execution_count": 7,
   "metadata": {},
   "outputs": [
    {
     "name": "stdout",
     "output_type": "stream",
     "text": [
      "(208, 1250, 3)\n",
      "(208,)\n"
     ]
    }
   ],
   "source": [
    "numof_chunks = 8 # divide data on multu chunks (numof_chunks = 1 -> process the hole csv file)\n",
    "\n",
    "Logs_2 = Logs.reshape(Logs.shape[0] * numof_chunks, Logs.shape[1]//numof_chunks, -1)\n",
    "\n",
    "y_labels = []\n",
    "\n",
    "for y0 in y:\n",
    "    y_labels.append(np.zeros(numof_chunks) + y0)\n",
    "\n",
    "y_labels = np.reshape(y_labels, -1)\n",
    "\n",
    "print(Logs_2.shape)\n",
    "print(y_labels.shape)"
   ]
  },
  {
   "cell_type": "code",
   "execution_count": 8,
   "metadata": {},
   "outputs": [
    {
     "name": "stdout",
     "output_type": "stream",
     "text": [
      "(208, 1250, 4)\n"
     ]
    }
   ],
   "source": [
    "touch_logs = touch_ds.reshape(touch_ds.shape[0]*numof_chunks, touch_ds.shape[1]//numof_chunks, -1)\n",
    "print(touch_logs.shape)"
   ]
  },
  {
   "cell_type": "code",
   "execution_count": 9,
   "metadata": {},
   "outputs": [
    {
     "name": "stdout",
     "output_type": "stream",
     "text": [
      "(208, 3, 1250)\n"
     ]
    },
    {
     "name": "stderr",
     "output_type": "stream",
     "text": [
      "100%|██████████| 208/208 [00:01<00:00, 151.11it/s]"
     ]
    },
    {
     "name": "stdout",
     "output_type": "stream",
     "text": [
      "(208, 65, 71, 3)\n"
     ]
    },
    {
     "name": "stderr",
     "output_type": "stream",
     "text": [
      "\n"
     ]
    }
   ],
   "source": [
    "x_spec = []\n",
    "y_spec = []\n",
    "\n",
    "#transpose data, fourier transform is applied on horizontal data\n",
    "X = np.transpose(Logs_2, axes = [0, -1, 1])\n",
    "print(X.shape)\n",
    "\n",
    "for i, x in enumerate(tqdm(X)):\n",
    "    x = abs(tf.signal.stft(x, 128, 16))\n",
    "    x_spec.append(x)#, window_fn=window_fn))\n",
    "    \n",
    "x_spec = np.stack(x_spec)\n",
    "\n",
    "#put the number of channels in the last axe to have the same data format supported by TensorFlow (9 channels) \n",
    "x_spec = np.transpose(x_spec, axes = [0, 3, 2, 1])\n",
    "# config originale: [0, 3, 2, 1]\n",
    "\n",
    "print(x_spec.shape)\n"
   ]
  },
  {
   "cell_type": "code",
   "execution_count": 10,
   "metadata": {},
   "outputs": [],
   "source": [
    "sensorFusion = MMFusion_Model.fusionFFN(num_logits=256).to(device)\n",
    "touchFusion = MMFusion_Model.fusionFFN(num_logits=256).to(device)\n",
    "\n",
    "fusion_model = MMFusion_Model.pred_model(sensorModelPred=specModel, touchModelPred=touchModel, sensorFusionPred=sensorFusion, touchFusionPred=touchFusion,  fusion=True).to(device)"
   ]
  },
  {
   "cell_type": "code",
   "execution_count": 11,
   "metadata": {},
   "outputs": [],
   "source": [
    "def test_fusion_pred():\n",
    "    x1 = torch.randn(16, 3, 65, 71).to(device)\n",
    "    x2 = torch.randn(16,4, 1250).to(device)\n",
    "    y_i, y_j, y_fi, y_fj = fusion_model(x1, x2)\n",
    "    return y_i, y_j, y_fi, y_fj\n",
    "\n",
    "y0, y1, y2, y3 =test_fusion_pred()"
   ]
  },
  {
   "cell_type": "code",
   "execution_count": 12,
   "metadata": {},
   "outputs": [
    {
     "name": "stdout",
     "output_type": "stream",
     "text": [
      "torch.Size([16, 256])\n",
      "torch.Size([16, 256])\n",
      "torch.Size([16, 256])\n",
      "torch.Size([16, 256])\n"
     ]
    }
   ],
   "source": [
    "print(y0.shape)\n",
    "print(y1.shape)\n",
    "print(y2.shape)\n",
    "print(y3.shape)"
   ]
  },
  {
   "cell_type": "code",
   "execution_count": 13,
   "metadata": {},
   "outputs": [],
   "source": [
    "x_train_sensor, x_test_sensor, y_train_sensor, y_test_sensor = train_test_split(x_spec, y_labels, test_size=0.2, shuffle=True, random_state=10)\n",
    "x_train_touch, x_test_touch, y_train_touch, y_test_touch = train_test_split(touch_logs, y_labels, test_size=0.2, shuffle=True, random_state=10)"
   ]
  },
  {
   "cell_type": "markdown",
   "metadata": {},
   "source": [
    "### **Dataset:**"
   ]
  },
  {
   "cell_type": "code",
   "execution_count": 14,
   "metadata": {},
   "outputs": [],
   "source": [
    "class customDataset(Dataset):\n",
    "    def __init__(self, sensorData, touchData, Y, transform=None):\n",
    "        self.sensorData = np.array(sensorData)\n",
    "        self.touchData = np.array(touchData)\n",
    "\n",
    "        self.labels = np.array(Y)\n",
    "        self.transform = transform\n",
    "\n",
    "    def __getitem__(self, i):\n",
    "        \n",
    "        X_i = self.sensorData[i]\n",
    "        X_j = self.touchData[i]\n",
    "\n",
    "        X_i = self.transform(X_i)\n",
    "        X_j = self.transform(X_j)\n",
    "\n",
    "        y = self.labels[i]\n",
    "\n",
    "        return (X_i, X_j, y)\n",
    "    \n",
    "    def __len__(self):\n",
    "        return len(self.touchData)"
   ]
  },
  {
   "cell_type": "code",
   "execution_count": 15,
   "metadata": {},
   "outputs": [],
   "source": [
    "device = torch.device('cuda:0' if torch.cuda.is_available() else 'cpu')\n",
    "transform = transforms.Compose([transforms.ToTensor()])\n",
    "train_set = customDataset(sensorData=x_train_sensor, touchData=x_train_touch, Y=y_train_sensor, transform=transform)\n",
    "test_set = customDataset(sensorData=x_test_sensor, touchData=x_test_touch, Y=y_test_sensor,transform=transform)"
   ]
  },
  {
   "cell_type": "code",
   "execution_count": 16,
   "metadata": {},
   "outputs": [],
   "source": [
    "train_loader = DataLoader(train_set, batch_size=16, shuffle=True, drop_last=True)\n",
    "test_loader = DataLoader(test_set, batch_size=16, drop_last=True)"
   ]
  },
  {
   "attachments": {},
   "cell_type": "markdown",
   "metadata": {},
   "source": [
    "##### **Display the data from train and test loaders**"
   ]
  },
  {
   "cell_type": "code",
   "execution_count": 17,
   "metadata": {},
   "outputs": [
    {
     "name": "stdout",
     "output_type": "stream",
     "text": [
      "Train Sample:  0\n",
      "X1 shape:torch.Size([16, 3, 65, 71])\n",
      "X2 Shape:torch.Size([16, 1250, 4])\n",
      "Shape of labels:torch.Size([16])\n"
     ]
    }
   ],
   "source": [
    "for i ,(x1,x2, y)  in enumerate(train_loader):\n",
    "    x1 = np.squeeze(x1, axis=1)\n",
    "    x2 = np.squeeze(x2, axis=1)\n",
    "    print(\"Train Sample: \", i)\n",
    "    print(\"X1 shape:{}\".format(x1.shape))\n",
    "    print(\"X2 Shape:{}\".format(x2.shape))\n",
    "    print(\"Shape of labels:{}\".format(y.shape))\n",
    "    break"
   ]
  },
  {
   "cell_type": "code",
   "execution_count": 18,
   "metadata": {},
   "outputs": [
    {
     "name": "stdout",
     "output_type": "stream",
     "text": [
      "Train Sample:  0\n",
      "X1 shape:torch.Size([16, 3, 65, 71])\n",
      "X2 Shape:torch.Size([16, 1250, 4])\n",
      "Shape of labels:torch.Size([16])\n"
     ]
    }
   ],
   "source": [
    "for i ,(x1,x2, y)  in enumerate(test_loader):\n",
    "    x1 = np.squeeze(x1, axis=1)\n",
    "    x2 = np.squeeze(x2, axis=1)\n",
    "    print(\"Train Sample: \", i)\n",
    "    print(\"X1 shape:{}\".format(x1.shape))\n",
    "    print(\"X2 Shape:{}\".format(x2.shape))\n",
    "    print(\"Shape of labels:{}\".format(y.shape))\n",
    "    break"
   ]
  },
  {
   "cell_type": "code",
   "execution_count": 19,
   "metadata": {},
   "outputs": [],
   "source": [
    "if not os.path.isdir('finetuned_models/fusion'):\n",
    "    os.mkdir('finetuned_models/fusion')\n",
    "finetune_path = 'finetuned_models/fusion/'\n",
    "\n",
    "def save_checkpoint(state, model='model'):\n",
    "\n",
    "    filename = str(model) + '.pth'\n",
    "    path_folder = os.path.join(finetune_path, filename)\n",
    "    print(\"=>> Saving check_point...\")\n",
    "    torch.save(state, path_folder)\n",
    "\n",
    "def finetune_loop(model, train_loader, test_loader, epochs, checkpoint='model'):\n",
    "    train_history = {'train_loss':[], 'train_accuracy':[]}\n",
    "    test_history = {'validation_loss':[], 'validation_accuracy':[]}\n",
    "\n",
    "    optimizer = optim.SGD(model.parameters(), lr=0.001, momentum=0.9)\n",
    "    #optimizer = optim.Adam(model.parameters(), lr=0.01, betas=(0.9,0.99), eps=1e-08, weight_decay=0)\n",
    "    scheduler = torch.optim.lr_scheduler.StepLR(optimizer, step_size=50, gamma=0.1)\n",
    "    \n",
    "    criterion = nn.BCELoss()\n",
    "    \n",
    "    for epoch in range(epochs):\n",
    "        model.train()\n",
    "        train_loss = 0\n",
    "        correct = 0\n",
    "        num_total = 0\n",
    "        if epoch == epochs - 1:\n",
    "            state = model.state_dict()\n",
    "            save_checkpoint(state=state, model = checkpoint)\n",
    "        for batch_idx, (x_i, x_j, y) in enumerate(train_loader):\n",
    "\n",
    "            #labels = torch.tensor(y_train[:,0], dtype=torch.long)\n",
    "            #labels = y[:,0].clone().detach()\n",
    "            labels = y.clone().detach()\n",
    "            x_i , x_j = x_i.to(device=device, dtype=torch.int64), x_j.to(device=device, dtype=torch.int64)\n",
    "            train_labels = labels.to(device=device, dtype=torch.int64)\n",
    "\n",
    "            x_i = x_i.float()\n",
    "            x_j = x_j.float()\n",
    "\n",
    "            #train_labels = (train_labels.squeeze(axis=1)).float()\n",
    "            #train_labels = train_labels.float()\n",
    "            \n",
    "            train_labels = (train_labels).float()\n",
    "            optimizer.zero_grad()\n",
    "            \n",
    "            \n",
    "            outputs,_ = model(x_i, x_j)\n",
    "\n",
    "            loss = criterion((outputs.squeeze(axis=1)).float(), train_labels)\n",
    "            loss.backward()\n",
    "            optimizer.step()\n",
    "            \n",
    "            train_loss += loss.item()\n",
    "\n",
    "            #predictions = outputs.max(1) # replace it for sigmoid !!!\n",
    "\n",
    "            predictions = (outputs > 0.5).long()\n",
    "\n",
    "            num_total += predictions.size(0)\n",
    "\n",
    "            #correct += predictions.eq(train_labels).sum().item()\n",
    "\n",
    "            correct += (predictions == train_labels).sum()\n",
    "            \n",
    "        train_history['train_loss'].append(train_loss/num_total)\n",
    "        train_history['train_accuracy'].append(float(correct)/float(num_total)*.100)\n",
    "        \n",
    "        model.eval()\n",
    "        test_loss = 0\n",
    "        correct = 0\n",
    "        test_total = 0\n",
    "        with torch.no_grad():\n",
    "            for batch_idx, (x_i, x_j, y) in enumerate(test_loader):\n",
    "                \n",
    "                #test_labels = torch.tensor(y_test[:,0], dtype=torch.long)\n",
    "                #test_labels = y[:,0].clone().detach()\n",
    "                test_labels = y.clone().detach()\n",
    "                \n",
    "                x_i , x_j = x_i.to(device=device, dtype=torch.int64), x_j.to(device=device, dtype=torch.int64)\n",
    "                test_labels = test_labels.to(device, dtype=torch.int64)\n",
    "\n",
    "                x_i = x_i.float()\n",
    "                x_j = x_j.float()\n",
    "\n",
    "                #test_labels = (test_labels.squeeze(axis=1)).float()\n",
    "                test_labels = (test_labels).float()\n",
    "                \n",
    "                outputs,_ = model(x_i, x_j)\n",
    "                \n",
    "                loss = criterion((outputs.squeeze(axis=1)).float(), test_labels)\n",
    "\n",
    "                test_loss += loss.item()\n",
    "                #_, predictions = outputs.max(1) # replace it for sigmoid !!!\n",
    "                predictions = (outputs > 0.5).long()\n",
    "\n",
    "                test_total += predictions.size(0)\n",
    "                #correct += predictions.eq(test_labels).sum().item()\n",
    "                correct += (predictions == test_labels).sum()\n",
    "                \n",
    "            test_history['validation_loss'].append(test_loss/test_total)\n",
    "            test_history['validation_accuracy'].append(float(correct)/float(test_total)*.100)\n",
    "\n",
    "            test_acc = 100.*correct/test_total\n",
    "        \n",
    "            print(\n",
    "            \"Epoch: \", epoch,\n",
    "            \"Correct: \", correct,\n",
    "            \"Loss: \", test_loss,\n",
    "            \"Accuracy: \", test_acc)\n",
    "        \n",
    "        #scheduler.step()\n",
    "        \n",
    "    return train_history, test_history"
   ]
  },
  {
   "attachments": {},
   "cell_type": "markdown",
   "metadata": {},
   "source": [
    "### **D) Define plot_values for plotting accuracy and loss curves:**"
   ]
  },
  {
   "cell_type": "code",
   "execution_count": 20,
   "metadata": {},
   "outputs": [],
   "source": [
    "def plot_values(train_dict, test_dict):\n",
    "    x_axis = range(0,len(train_dict[\"train_loss\"]))\n",
    "\n",
    "    fig, (ax1, ax2) = plt.subplots(1,2)\n",
    "    #fig.subtitle('Accuracy and Loss')\n",
    "\n",
    "    ax1.plot(x_axis, train_dict['train_loss'], '--', label='Training loss')\n",
    "    ax1.plot(x_axis, test_dict['validation_loss'], '--', label='Validation loss', color='r')\n",
    "    ax1.legend()\n",
    "    #plt.ylabel('Loss function')\n",
    "    ax1.grid()\n",
    "\n",
    "    ax2.plot(x_axis, train_dict['train_accuracy'], '--', label='Train accuracy', color='r')\n",
    "    ax2.plot(x_axis, test_dict['validation_accuracy'], '--', label='Validation accuracy', color='g')\n",
    "    ax2.legend()\n",
    "    ax2.grid()\n",
    "\n",
    "    plt.show()"
   ]
  },
  {
   "cell_type": "code",
   "execution_count": 21,
   "metadata": {},
   "outputs": [],
   "source": [
    "pretrain_path = 'pretrained_models/fusion/frequency_domain_models'\n",
    "\n",
    "file_name = 'ConvRNN_Model_TF_Accelerometer' + '.pth'\n",
    "path_folder = os.path.join(pretrain_path, file_name)\n",
    "x = fusion_model.load_state_dict(torch.load(path_folder, map_location=device))"
   ]
  },
  {
   "cell_type": "code",
   "execution_count": 22,
   "metadata": {},
   "outputs": [
    {
     "data": {
      "text/plain": [
       "<All keys matched successfully>"
      ]
     },
     "execution_count": 22,
     "metadata": {},
     "output_type": "execute_result"
    }
   ],
   "source": [
    "x"
   ]
  },
  {
   "cell_type": "code",
   "execution_count": 23,
   "metadata": {},
   "outputs": [],
   "source": [
    "ft_model = models.downstream_model.DSModel_Fusion(fusion_model, num_classes=1, fusion=True).to(device)"
   ]
  },
  {
   "cell_type": "code",
   "execution_count": 24,
   "metadata": {},
   "outputs": [
    {
     "name": "stdout",
     "output_type": "stream",
     "text": [
      "Epoch:  0 Correct:  tensor(346, device='cuda:0') Loss:  1.3724604845046997 Accuracy:  tensor(1081.2500, device='cuda:0')\n",
      "Epoch:  1 Correct:  tensor(338, device='cuda:0') Loss:  1.3568350076675415 Accuracy:  tensor(1056.2500, device='cuda:0')\n",
      "Epoch:  2 Correct:  tensor(330, device='cuda:0') Loss:  1.342733383178711 Accuracy:  tensor(1031.2500, device='cuda:0')\n",
      "Epoch:  3 Correct:  tensor(322, device='cuda:0') Loss:  1.3296784162521362 Accuracy:  tensor(1006.2500, device='cuda:0')\n",
      "Epoch:  4 Correct:  tensor(306, device='cuda:0') Loss:  1.3164609670639038 Accuracy:  tensor(956.2500, device='cuda:0')\n",
      "Epoch:  5 Correct:  tensor(294, device='cuda:0') Loss:  1.2970944046974182 Accuracy:  tensor(918.7500, device='cuda:0')\n",
      "Epoch:  6 Correct:  tensor(288, device='cuda:0') Loss:  1.278105914592743 Accuracy:  tensor(900., device='cuda:0')\n",
      "Epoch:  7 Correct:  tensor(288, device='cuda:0') Loss:  1.2525380849838257 Accuracy:  tensor(900., device='cuda:0')\n",
      "Epoch:  8 Correct:  tensor(288, device='cuda:0') Loss:  1.222118854522705 Accuracy:  tensor(900., device='cuda:0')\n",
      "Epoch:  9 Correct:  tensor(288, device='cuda:0') Loss:  1.1961954832077026 Accuracy:  tensor(900., device='cuda:0')\n",
      "Epoch:  10 Correct:  tensor(296, device='cuda:0') Loss:  1.1595803499221802 Accuracy:  tensor(925., device='cuda:0')\n",
      "Epoch:  11 Correct:  tensor(296, device='cuda:0') Loss:  1.1173285841941833 Accuracy:  tensor(925., device='cuda:0')\n",
      "Epoch:  12 Correct:  tensor(312, device='cuda:0') Loss:  1.0688564777374268 Accuracy:  tensor(975., device='cuda:0')\n",
      "Epoch:  13 Correct:  tensor(312, device='cuda:0') Loss:  1.0113728046417236 Accuracy:  tensor(975., device='cuda:0')\n",
      "Epoch:  14 Correct:  tensor(312, device='cuda:0') Loss:  0.949585497379303 Accuracy:  tensor(975., device='cuda:0')\n",
      "Epoch:  15 Correct:  tensor(312, device='cuda:0') Loss:  0.8715812265872955 Accuracy:  tensor(975., device='cuda:0')\n",
      "Epoch:  16 Correct:  tensor(306, device='cuda:0') Loss:  0.7885397970676422 Accuracy:  tensor(956.2500, device='cuda:0')\n",
      "Epoch:  17 Correct:  tensor(306, device='cuda:0') Loss:  0.7104775309562683 Accuracy:  tensor(956.2500, device='cuda:0')\n",
      "Epoch:  18 Correct:  tensor(306, device='cuda:0') Loss:  0.617673397064209 Accuracy:  tensor(956.2500, device='cuda:0')\n",
      "Epoch:  19 Correct:  tensor(306, device='cuda:0') Loss:  0.5120995938777924 Accuracy:  tensor(956.2500, device='cuda:0')\n",
      "Epoch:  20 Correct:  tensor(306, device='cuda:0') Loss:  0.4765801876783371 Accuracy:  tensor(956.2500, device='cuda:0')\n",
      "Epoch:  21 Correct:  tensor(306, device='cuda:0') Loss:  0.3522719740867615 Accuracy:  tensor(956.2500, device='cuda:0')\n",
      "Epoch:  22 Correct:  tensor(306, device='cuda:0') Loss:  0.24883374571800232 Accuracy:  tensor(956.2500, device='cuda:0')\n",
      "Epoch:  23 Correct:  tensor(306, device='cuda:0') Loss:  0.17758214473724365 Accuracy:  tensor(956.2500, device='cuda:0')\n",
      "Epoch:  24 Correct:  tensor(306, device='cuda:0') Loss:  0.16692525893449783 Accuracy:  tensor(956.2500, device='cuda:0')\n",
      "Epoch:  25 Correct:  tensor(314, device='cuda:0') Loss:  0.2165258526802063 Accuracy:  tensor(981.2500, device='cuda:0')\n",
      "Epoch:  26 Correct:  tensor(306, device='cuda:0') Loss:  0.13413291051983833 Accuracy:  tensor(956.2500, device='cuda:0')\n",
      "Epoch:  27 Correct:  tensor(306, device='cuda:0') Loss:  0.09013824909925461 Accuracy:  tensor(956.2500, device='cuda:0')\n",
      "Epoch:  28 Correct:  tensor(306, device='cuda:0') Loss:  0.0847347192466259 Accuracy:  tensor(956.2500, device='cuda:0')\n",
      "Epoch:  29 Correct:  tensor(300, device='cuda:0') Loss:  0.23346474021673203 Accuracy:  tensor(937.5000, device='cuda:0')\n",
      "Epoch:  30 Correct:  tensor(306, device='cuda:0') Loss:  0.15427672117948532 Accuracy:  tensor(956.2500, device='cuda:0')\n",
      "Epoch:  31 Correct:  tensor(312, device='cuda:0') Loss:  0.13528240472078323 Accuracy:  tensor(975., device='cuda:0')\n",
      "Epoch:  32 Correct:  tensor(306, device='cuda:0') Loss:  0.06248205527663231 Accuracy:  tensor(956.2500, device='cuda:0')\n",
      "Epoch:  33 Correct:  tensor(314, device='cuda:0') Loss:  0.1230754554271698 Accuracy:  tensor(981.2500, device='cuda:0')\n",
      "Epoch:  34 Correct:  tensor(314, device='cuda:0') Loss:  0.08572655357420444 Accuracy:  tensor(981.2500, device='cuda:0')\n",
      "Epoch:  35 Correct:  tensor(292, device='cuda:0') Loss:  0.38570666313171387 Accuracy:  tensor(912.5000, device='cuda:0')\n",
      "Epoch:  36 Correct:  tensor(306, device='cuda:0') Loss:  0.28256721794605255 Accuracy:  tensor(956.2500, device='cuda:0')\n",
      "Epoch:  37 Correct:  tensor(312, device='cuda:0') Loss:  0.11717171780765057 Accuracy:  tensor(975., device='cuda:0')\n",
      "Epoch:  38 Correct:  tensor(306, device='cuda:0') Loss:  0.040396470576524734 Accuracy:  tensor(956.2500, device='cuda:0')\n",
      "Epoch:  39 Correct:  tensor(314, device='cuda:0') Loss:  0.13414603099226952 Accuracy:  tensor(981.2500, device='cuda:0')\n",
      "Epoch:  40 Correct:  tensor(300, device='cuda:0') Loss:  0.12916719913482666 Accuracy:  tensor(937.5000, device='cuda:0')\n",
      "Epoch:  41 Correct:  tensor(272, device='cuda:0') Loss:  0.6634279638528824 Accuracy:  tensor(850., device='cuda:0')\n",
      "Epoch:  42 Correct:  tensor(306, device='cuda:0') Loss:  0.061607979238033295 Accuracy:  tensor(956.2500, device='cuda:0')\n",
      "Epoch:  43 Correct:  tensor(306, device='cuda:0') Loss:  0.03629564121365547 Accuracy:  tensor(956.2500, device='cuda:0')\n",
      "Epoch:  44 Correct:  tensor(306, device='cuda:0') Loss:  0.041135137900710106 Accuracy:  tensor(956.2500, device='cuda:0')\n",
      "Epoch:  45 Correct:  tensor(314, device='cuda:0') Loss:  0.08554893173277378 Accuracy:  tensor(981.2500, device='cuda:0')\n",
      "Epoch:  46 Correct:  tensor(314, device='cuda:0') Loss:  0.08501937985420227 Accuracy:  tensor(981.2500, device='cuda:0')\n",
      "Epoch:  47 Correct:  tensor(306, device='cuda:0') Loss:  0.028987358324229717 Accuracy:  tensor(956.2500, device='cuda:0')\n",
      "Epoch:  48 Correct:  tensor(306, device='cuda:0') Loss:  0.0259082093834877 Accuracy:  tensor(956.2500, device='cuda:0')\n",
      "Epoch:  49 Correct:  tensor(306, device='cuda:0') Loss:  0.027148238383233547 Accuracy:  tensor(956.2500, device='cuda:0')\n",
      "Epoch:  50 Correct:  tensor(306, device='cuda:0') Loss:  0.01687067188322544 Accuracy:  tensor(956.2500, device='cuda:0')\n",
      "Epoch:  51 Correct:  tensor(298, device='cuda:0') Loss:  0.06704025622457266 Accuracy:  tensor(931.2500, device='cuda:0')\n",
      "Epoch:  52 Correct:  tensor(306, device='cuda:0') Loss:  0.04323666915297508 Accuracy:  tensor(956.2500, device='cuda:0')\n",
      "Epoch:  53 Correct:  tensor(306, device='cuda:0') Loss:  0.017704288475215435 Accuracy:  tensor(956.2500, device='cuda:0')\n",
      "Epoch:  54 Correct:  tensor(306, device='cuda:0') Loss:  0.02164786495268345 Accuracy:  tensor(956.2500, device='cuda:0')\n",
      "Epoch:  55 Correct:  tensor(306, device='cuda:0') Loss:  0.02007029578089714 Accuracy:  tensor(956.2500, device='cuda:0')\n",
      "Epoch:  56 Correct:  tensor(306, device='cuda:0') Loss:  0.017520754598081112 Accuracy:  tensor(956.2500, device='cuda:0')\n",
      "Epoch:  57 Correct:  tensor(306, device='cuda:0') Loss:  0.02239414770156145 Accuracy:  tensor(956.2500, device='cuda:0')\n",
      "Epoch:  58 Correct:  tensor(306, device='cuda:0') Loss:  0.019210146740078926 Accuracy:  tensor(956.2500, device='cuda:0')\n",
      "Epoch:  59 Correct:  tensor(306, device='cuda:0') Loss:  0.02712111920118332 Accuracy:  tensor(956.2500, device='cuda:0')\n",
      "Epoch:  60 Correct:  tensor(306, device='cuda:0') Loss:  0.02768156211823225 Accuracy:  tensor(956.2500, device='cuda:0')\n",
      "Epoch:  61 Correct:  tensor(306, device='cuda:0') Loss:  0.03272336907684803 Accuracy:  tensor(956.2500, device='cuda:0')\n",
      "Epoch:  62 Correct:  tensor(306, device='cuda:0') Loss:  0.019274539314210415 Accuracy:  tensor(956.2500, device='cuda:0')\n",
      "Epoch:  63 Correct:  tensor(306, device='cuda:0') Loss:  0.05552942119538784 Accuracy:  tensor(956.2500, device='cuda:0')\n",
      "Epoch:  64 Correct:  tensor(298, device='cuda:0') Loss:  0.11365479324012995 Accuracy:  tensor(931.2500, device='cuda:0')\n",
      "Epoch:  65 Correct:  tensor(298, device='cuda:0') Loss:  0.09880011761561036 Accuracy:  tensor(931.2500, device='cuda:0')\n",
      "Epoch:  66 Correct:  tensor(306, device='cuda:0') Loss:  0.01950702164322138 Accuracy:  tensor(956.2500, device='cuda:0')\n",
      "Epoch:  67 Correct:  tensor(306, device='cuda:0') Loss:  0.015374529175460339 Accuracy:  tensor(956.2500, device='cuda:0')\n",
      "Epoch:  68 Correct:  tensor(298, device='cuda:0') Loss:  0.07988354563713074 Accuracy:  tensor(931.2500, device='cuda:0')\n",
      "Epoch:  69 Correct:  tensor(306, device='cuda:0') Loss:  0.024204364512115717 Accuracy:  tensor(956.2500, device='cuda:0')\n",
      "Epoch:  70 Correct:  tensor(314, device='cuda:0') Loss:  0.07466111378744245 Accuracy:  tensor(981.2500, device='cuda:0')\n",
      "Epoch:  71 Correct:  tensor(334, device='cuda:0') Loss:  0.6509876251220703 Accuracy:  tensor(1043.7500, device='cuda:0')\n",
      "Epoch:  72 Correct:  tensor(314, device='cuda:0') Loss:  0.24078311771154404 Accuracy:  tensor(981.2500, device='cuda:0')\n",
      "Epoch:  73 Correct:  tensor(306, device='cuda:0') Loss:  0.03641184512525797 Accuracy:  tensor(956.2500, device='cuda:0')\n",
      "Epoch:  74 Correct:  tensor(306, device='cuda:0') Loss:  0.04776479862630367 Accuracy:  tensor(956.2500, device='cuda:0')\n",
      "Epoch:  75 Correct:  tensor(306, device='cuda:0') Loss:  0.04272551974281669 Accuracy:  tensor(956.2500, device='cuda:0')\n",
      "Epoch:  76 Correct:  tensor(298, device='cuda:0') Loss:  0.06081719743087888 Accuracy:  tensor(931.2500, device='cuda:0')\n",
      "Epoch:  77 Correct:  tensor(306, device='cuda:0') Loss:  0.046642612433061004 Accuracy:  tensor(956.2500, device='cuda:0')\n",
      "Epoch:  78 Correct:  tensor(298, device='cuda:0') Loss:  0.06336085102520883 Accuracy:  tensor(931.2500, device='cuda:0')\n",
      "Epoch:  79 Correct:  tensor(298, device='cuda:0') Loss:  0.09054319839924574 Accuracy:  tensor(931.2500, device='cuda:0')\n",
      "Epoch:  80 Correct:  tensor(298, device='cuda:0') Loss:  0.061326855793595314 Accuracy:  tensor(931.2500, device='cuda:0')\n",
      "Epoch:  81 Correct:  tensor(306, device='cuda:0') Loss:  0.015368479304015636 Accuracy:  tensor(956.2500, device='cuda:0')\n",
      "Epoch:  82 Correct:  tensor(306, device='cuda:0') Loss:  0.012287148740142584 Accuracy:  tensor(956.2500, device='cuda:0')\n",
      "Epoch:  83 Correct:  tensor(306, device='cuda:0') Loss:  0.01372741418890655 Accuracy:  tensor(956.2500, device='cuda:0')\n",
      "Epoch:  84 Correct:  tensor(306, device='cuda:0') Loss:  0.02378275850787759 Accuracy:  tensor(956.2500, device='cuda:0')\n",
      "Epoch:  85 Correct:  tensor(306, device='cuda:0') Loss:  0.011843427550047636 Accuracy:  tensor(956.2500, device='cuda:0')\n",
      "Epoch:  86 Correct:  tensor(306, device='cuda:0') Loss:  0.007563506485894322 Accuracy:  tensor(956.2500, device='cuda:0')\n",
      "Epoch:  87 Correct:  tensor(306, device='cuda:0') Loss:  0.00773245096206665 Accuracy:  tensor(956.2500, device='cuda:0')\n",
      "Epoch:  88 Correct:  tensor(306, device='cuda:0') Loss:  0.0070291925221681595 Accuracy:  tensor(956.2500, device='cuda:0')\n",
      "Epoch:  89 Correct:  tensor(306, device='cuda:0') Loss:  0.00955269462428987 Accuracy:  tensor(956.2500, device='cuda:0')\n",
      "Epoch:  90 Correct:  tensor(298, device='cuda:0') Loss:  0.060041535180062056 Accuracy:  tensor(931.2500, device='cuda:0')\n",
      "Epoch:  91 Correct:  tensor(306, device='cuda:0') Loss:  0.05399662721902132 Accuracy:  tensor(956.2500, device='cuda:0')\n",
      "Epoch:  92 Correct:  tensor(306, device='cuda:0') Loss:  0.01771374884992838 Accuracy:  tensor(956.2500, device='cuda:0')\n",
      "Epoch:  93 Correct:  tensor(306, device='cuda:0') Loss:  0.01138578588142991 Accuracy:  tensor(956.2500, device='cuda:0')\n",
      "Epoch:  94 Correct:  tensor(306, device='cuda:0') Loss:  0.010458700824528933 Accuracy:  tensor(956.2500, device='cuda:0')\n",
      "Epoch:  95 Correct:  tensor(306, device='cuda:0') Loss:  0.007328425068408251 Accuracy:  tensor(956.2500, device='cuda:0')\n",
      "Epoch:  96 Correct:  tensor(306, device='cuda:0') Loss:  0.061933823861181736 Accuracy:  tensor(956.2500, device='cuda:0')\n",
      "Epoch:  97 Correct:  tensor(306, device='cuda:0') Loss:  0.0671518282033503 Accuracy:  tensor(956.2500, device='cuda:0')\n",
      "Epoch:  98 Correct:  tensor(306, device='cuda:0') Loss:  0.04845972266048193 Accuracy:  tensor(956.2500, device='cuda:0')\n",
      "Epoch:  99 Correct:  tensor(306, device='cuda:0') Loss:  0.010115252807736397 Accuracy:  tensor(956.2500, device='cuda:0')\n",
      "Epoch:  100 Correct:  tensor(312, device='cuda:0') Loss:  0.16452159313485026 Accuracy:  tensor(975., device='cuda:0')\n",
      "Epoch:  101 Correct:  tensor(298, device='cuda:0') Loss:  0.09142840839922428 Accuracy:  tensor(931.2500, device='cuda:0')\n",
      "Epoch:  102 Correct:  tensor(280, device='cuda:0') Loss:  1.1035317182540894 Accuracy:  tensor(875., device='cuda:0')\n",
      "Epoch:  103 Correct:  tensor(306, device='cuda:0') Loss:  0.03106205351650715 Accuracy:  tensor(956.2500, device='cuda:0')\n",
      "Epoch:  104 Correct:  tensor(306, device='cuda:0') Loss:  0.011577963829040527 Accuracy:  tensor(956.2500, device='cuda:0')\n",
      "Epoch:  105 Correct:  tensor(314, device='cuda:0') Loss:  0.16172215668484569 Accuracy:  tensor(981.2500, device='cuda:0')\n",
      "Epoch:  106 Correct:  tensor(314, device='cuda:0') Loss:  0.17702538520097733 Accuracy:  tensor(981.2500, device='cuda:0')\n",
      "Epoch:  107 Correct:  tensor(314, device='cuda:0') Loss:  0.19086966523900628 Accuracy:  tensor(981.2500, device='cuda:0')\n",
      "Epoch:  108 Correct:  tensor(314, device='cuda:0') Loss:  0.14085882273502648 Accuracy:  tensor(981.2500, device='cuda:0')\n",
      "Epoch:  109 Correct:  tensor(314, device='cuda:0') Loss:  0.06305225729010999 Accuracy:  tensor(981.2500, device='cuda:0')\n",
      "Epoch:  110 Correct:  tensor(306, device='cuda:0') Loss:  0.019083228427916765 Accuracy:  tensor(956.2500, device='cuda:0')\n",
      "Epoch:  111 Correct:  tensor(306, device='cuda:0') Loss:  0.015771537087857723 Accuracy:  tensor(956.2500, device='cuda:0')\n",
      "Epoch:  112 Correct:  tensor(314, device='cuda:0') Loss:  0.0988285526400432 Accuracy:  tensor(981.2500, device='cuda:0')\n",
      "Epoch:  113 Correct:  tensor(300, device='cuda:0') Loss:  0.1755327247083187 Accuracy:  tensor(937.5000, device='cuda:0')\n",
      "Epoch:  114 Correct:  tensor(306, device='cuda:0') Loss:  0.04205269389785826 Accuracy:  tensor(956.2500, device='cuda:0')\n",
      "Epoch:  115 Correct:  tensor(298, device='cuda:0') Loss:  0.09166503977030516 Accuracy:  tensor(931.2500, device='cuda:0')\n",
      "Epoch:  116 Correct:  tensor(298, device='cuda:0') Loss:  0.08631575829349458 Accuracy:  tensor(931.2500, device='cuda:0')\n",
      "Epoch:  117 Correct:  tensor(306, device='cuda:0') Loss:  0.011776875238865614 Accuracy:  tensor(956.2500, device='cuda:0')\n",
      "Epoch:  118 Correct:  tensor(306, device='cuda:0') Loss:  0.010354813188314438 Accuracy:  tensor(956.2500, device='cuda:0')\n",
      "Epoch:  119 Correct:  tensor(306, device='cuda:0') Loss:  0.009000109974294901 Accuracy:  tensor(956.2500, device='cuda:0')\n",
      "Epoch:  120 Correct:  tensor(306, device='cuda:0') Loss:  0.006475295405834913 Accuracy:  tensor(956.2500, device='cuda:0')\n",
      "Epoch:  121 Correct:  tensor(306, device='cuda:0') Loss:  0.0077998642809689045 Accuracy:  tensor(956.2500, device='cuda:0')\n",
      "Epoch:  122 Correct:  tensor(306, device='cuda:0') Loss:  0.007941762451082468 Accuracy:  tensor(956.2500, device='cuda:0')\n",
      "Epoch:  123 Correct:  tensor(306, device='cuda:0') Loss:  0.007062263670377433 Accuracy:  tensor(956.2500, device='cuda:0')\n",
      "Epoch:  124 Correct:  tensor(306, device='cuda:0') Loss:  0.0063866578275337815 Accuracy:  tensor(956.2500, device='cuda:0')\n",
      "Epoch:  125 Correct:  tensor(306, device='cuda:0') Loss:  0.005263840314000845 Accuracy:  tensor(956.2500, device='cuda:0')\n",
      "Epoch:  126 Correct:  tensor(306, device='cuda:0') Loss:  0.00492867745924741 Accuracy:  tensor(956.2500, device='cuda:0')\n",
      "Epoch:  127 Correct:  tensor(306, device='cuda:0') Loss:  0.004868080839514732 Accuracy:  tensor(956.2500, device='cuda:0')\n",
      "Epoch:  128 Correct:  tensor(306, device='cuda:0') Loss:  0.02445022319443524 Accuracy:  tensor(956.2500, device='cuda:0')\n",
      "Epoch:  129 Correct:  tensor(298, device='cuda:0') Loss:  0.06516513519454747 Accuracy:  tensor(931.2500, device='cuda:0')\n",
      "Epoch:  130 Correct:  tensor(298, device='cuda:0') Loss:  0.08298371476121247 Accuracy:  tensor(931.2500, device='cuda:0')\n",
      "Epoch:  131 Correct:  tensor(298, device='cuda:0') Loss:  0.05384766007773578 Accuracy:  tensor(931.2500, device='cuda:0')\n",
      "Epoch:  132 Correct:  tensor(298, device='cuda:0') Loss:  0.050453257746994495 Accuracy:  tensor(931.2500, device='cuda:0')\n",
      "Epoch:  133 Correct:  tensor(306, device='cuda:0') Loss:  0.0434320867061615 Accuracy:  tensor(956.2500, device='cuda:0')\n",
      "Epoch:  134 Correct:  tensor(306, device='cuda:0') Loss:  0.04434345185291022 Accuracy:  tensor(956.2500, device='cuda:0')\n",
      "Epoch:  135 Correct:  tensor(306, device='cuda:0') Loss:  0.027978102676570415 Accuracy:  tensor(956.2500, device='cuda:0')\n",
      "Epoch:  136 Correct:  tensor(306, device='cuda:0') Loss:  0.011866415734402835 Accuracy:  tensor(956.2500, device='cuda:0')\n",
      "Epoch:  137 Correct:  tensor(306, device='cuda:0') Loss:  0.013101957680191845 Accuracy:  tensor(956.2500, device='cuda:0')\n",
      "Epoch:  138 Correct:  tensor(306, device='cuda:0') Loss:  0.016039176378399134 Accuracy:  tensor(956.2500, device='cuda:0')\n",
      "Epoch:  139 Correct:  tensor(306, device='cuda:0') Loss:  0.024929593317210674 Accuracy:  tensor(956.2500, device='cuda:0')\n",
      "Epoch:  140 Correct:  tensor(306, device='cuda:0') Loss:  0.016951764351688325 Accuracy:  tensor(956.2500, device='cuda:0')\n",
      "Epoch:  141 Correct:  tensor(306, device='cuda:0') Loss:  0.036476898938417435 Accuracy:  tensor(956.2500, device='cuda:0')\n",
      "Epoch:  142 Correct:  tensor(298, device='cuda:0') Loss:  0.11036533617880195 Accuracy:  tensor(931.2500, device='cuda:0')\n",
      "Epoch:  143 Correct:  tensor(306, device='cuda:0') Loss:  0.005189089570194483 Accuracy:  tensor(956.2500, device='cuda:0')\n",
      "Epoch:  144 Correct:  tensor(290, device='cuda:0') Loss:  0.14290004642680287 Accuracy:  tensor(906.2500, device='cuda:0')\n",
      "Epoch:  145 Correct:  tensor(298, device='cuda:0') Loss:  0.1261310838162899 Accuracy:  tensor(931.2500, device='cuda:0')\n",
      "Epoch:  146 Correct:  tensor(298, device='cuda:0') Loss:  0.07581998780369759 Accuracy:  tensor(931.2500, device='cuda:0')\n",
      "Epoch:  147 Correct:  tensor(306, device='cuda:0') Loss:  0.049839260056614876 Accuracy:  tensor(956.2500, device='cuda:0')\n",
      "Epoch:  148 Correct:  tensor(306, device='cuda:0') Loss:  0.04711013427004218 Accuracy:  tensor(956.2500, device='cuda:0')\n",
      "Epoch:  149 Correct:  tensor(306, device='cuda:0') Loss:  0.042406267020851374 Accuracy:  tensor(956.2500, device='cuda:0')\n",
      "Epoch:  150 Correct:  tensor(306, device='cuda:0') Loss:  0.02235008729621768 Accuracy:  tensor(956.2500, device='cuda:0')\n",
      "Epoch:  151 Correct:  tensor(306, device='cuda:0') Loss:  0.017628756817430258 Accuracy:  tensor(956.2500, device='cuda:0')\n",
      "Epoch:  152 Correct:  tensor(306, device='cuda:0') Loss:  0.020822429098188877 Accuracy:  tensor(956.2500, device='cuda:0')\n",
      "Epoch:  153 Correct:  tensor(306, device='cuda:0') Loss:  0.013541520107537508 Accuracy:  tensor(956.2500, device='cuda:0')\n",
      "Epoch:  154 Correct:  tensor(306, device='cuda:0') Loss:  0.019265144248493016 Accuracy:  tensor(956.2500, device='cuda:0')\n",
      "Epoch:  155 Correct:  tensor(306, device='cuda:0') Loss:  0.02045821282081306 Accuracy:  tensor(956.2500, device='cuda:0')\n",
      "Epoch:  156 Correct:  tensor(306, device='cuda:0') Loss:  0.01898069737944752 Accuracy:  tensor(956.2500, device='cuda:0')\n",
      "Epoch:  157 Correct:  tensor(306, device='cuda:0') Loss:  0.017030703835189342 Accuracy:  tensor(956.2500, device='cuda:0')\n",
      "Epoch:  158 Correct:  tensor(306, device='cuda:0') Loss:  0.014154095435515046 Accuracy:  tensor(956.2500, device='cuda:0')\n",
      "Epoch:  159 Correct:  tensor(306, device='cuda:0') Loss:  0.011077865492552519 Accuracy:  tensor(956.2500, device='cuda:0')\n",
      "Epoch:  160 Correct:  tensor(306, device='cuda:0') Loss:  0.011865949956700206 Accuracy:  tensor(956.2500, device='cuda:0')\n",
      "Epoch:  161 Correct:  tensor(306, device='cuda:0') Loss:  0.016543275909498334 Accuracy:  tensor(956.2500, device='cuda:0')\n",
      "Epoch:  162 Correct:  tensor(306, device='cuda:0') Loss:  0.016234954353421926 Accuracy:  tensor(956.2500, device='cuda:0')\n",
      "Epoch:  163 Correct:  tensor(306, device='cuda:0') Loss:  0.019742309115827084 Accuracy:  tensor(956.2500, device='cuda:0')\n",
      "Epoch:  164 Correct:  tensor(306, device='cuda:0') Loss:  0.012073498626705259 Accuracy:  tensor(956.2500, device='cuda:0')\n",
      "Epoch:  165 Correct:  tensor(306, device='cuda:0') Loss:  0.012257548281922936 Accuracy:  tensor(956.2500, device='cuda:0')\n",
      "Epoch:  166 Correct:  tensor(306, device='cuda:0') Loss:  0.01007836579810828 Accuracy:  tensor(956.2500, device='cuda:0')\n",
      "Epoch:  167 Correct:  tensor(306, device='cuda:0') Loss:  0.011246293550357223 Accuracy:  tensor(956.2500, device='cuda:0')\n",
      "Epoch:  168 Correct:  tensor(306, device='cuda:0') Loss:  0.007658982533030212 Accuracy:  tensor(956.2500, device='cuda:0')\n",
      "Epoch:  169 Correct:  tensor(306, device='cuda:0') Loss:  0.008597430540248752 Accuracy:  tensor(956.2500, device='cuda:0')\n",
      "Epoch:  170 Correct:  tensor(306, device='cuda:0') Loss:  0.008690666989423335 Accuracy:  tensor(956.2500, device='cuda:0')\n",
      "Epoch:  171 Correct:  tensor(306, device='cuda:0') Loss:  0.010542508796788752 Accuracy:  tensor(956.2500, device='cuda:0')\n",
      "Epoch:  172 Correct:  tensor(306, device='cuda:0') Loss:  0.007849789340980351 Accuracy:  tensor(956.2500, device='cuda:0')\n",
      "Epoch:  173 Correct:  tensor(306, device='cuda:0') Loss:  0.008346054353751242 Accuracy:  tensor(956.2500, device='cuda:0')\n",
      "Epoch:  174 Correct:  tensor(306, device='cuda:0') Loss:  0.012228627689182758 Accuracy:  tensor(956.2500, device='cuda:0')\n",
      "Epoch:  175 Correct:  tensor(306, device='cuda:0') Loss:  0.005942141870036721 Accuracy:  tensor(956.2500, device='cuda:0')\n",
      "Epoch:  176 Correct:  tensor(306, device='cuda:0') Loss:  0.006353725679218769 Accuracy:  tensor(956.2500, device='cuda:0')\n",
      "Epoch:  177 Correct:  tensor(306, device='cuda:0') Loss:  0.009030139306560159 Accuracy:  tensor(956.2500, device='cuda:0')\n",
      "Epoch:  178 Correct:  tensor(306, device='cuda:0') Loss:  0.005784752429462969 Accuracy:  tensor(956.2500, device='cuda:0')\n",
      "Epoch:  179 Correct:  tensor(306, device='cuda:0') Loss:  0.007561903796158731 Accuracy:  tensor(956.2500, device='cuda:0')\n",
      "Epoch:  180 Correct:  tensor(306, device='cuda:0') Loss:  0.0033651834237389266 Accuracy:  tensor(956.2500, device='cuda:0')\n",
      "Epoch:  181 Correct:  tensor(306, device='cuda:0') Loss:  0.0026744467904791236 Accuracy:  tensor(956.2500, device='cuda:0')\n",
      "Epoch:  182 Correct:  tensor(306, device='cuda:0') Loss:  0.0035151453339494765 Accuracy:  tensor(956.2500, device='cuda:0')\n",
      "Epoch:  183 Correct:  tensor(306, device='cuda:0') Loss:  0.005418080952949822 Accuracy:  tensor(956.2500, device='cuda:0')\n",
      "Epoch:  184 Correct:  tensor(306, device='cuda:0') Loss:  0.01021664950530976 Accuracy:  tensor(956.2500, device='cuda:0')\n",
      "Epoch:  185 Correct:  tensor(306, device='cuda:0') Loss:  0.20990433695260435 Accuracy:  tensor(956.2500, device='cuda:0')\n",
      "Epoch:  186 Correct:  tensor(306, device='cuda:0') Loss:  0.24834304407704622 Accuracy:  tensor(956.2500, device='cuda:0')\n",
      "Epoch:  187 Correct:  tensor(314, device='cuda:0') Loss:  0.2322409451007843 Accuracy:  tensor(981.2500, device='cuda:0')\n",
      "Epoch:  188 Correct:  tensor(314, device='cuda:0') Loss:  0.23336134082637727 Accuracy:  tensor(981.2500, device='cuda:0')\n",
      "Epoch:  189 Correct:  tensor(314, device='cuda:0') Loss:  0.21945286146365106 Accuracy:  tensor(981.2500, device='cuda:0')\n",
      "Epoch:  190 Correct:  tensor(314, device='cuda:0') Loss:  0.20889590284787118 Accuracy:  tensor(981.2500, device='cuda:0')\n",
      "Epoch:  191 Correct:  tensor(314, device='cuda:0') Loss:  0.24316082324367017 Accuracy:  tensor(981.2500, device='cuda:0')\n",
      "Epoch:  192 Correct:  tensor(314, device='cuda:0') Loss:  0.26656080438988283 Accuracy:  tensor(981.2500, device='cuda:0')\n",
      "Epoch:  193 Correct:  tensor(314, device='cuda:0') Loss:  0.26748191250953823 Accuracy:  tensor(981.2500, device='cuda:0')\n",
      "Epoch:  194 Correct:  tensor(314, device='cuda:0') Loss:  0.26264055143110454 Accuracy:  tensor(981.2500, device='cuda:0')\n",
      "Epoch:  195 Correct:  tensor(306, device='cuda:0') Loss:  0.22658085520379245 Accuracy:  tensor(956.2500, device='cuda:0')\n",
      "Epoch:  196 Correct:  tensor(314, device='cuda:0') Loss:  0.12347320327535272 Accuracy:  tensor(981.2500, device='cuda:0')\n",
      "Epoch:  197 Correct:  tensor(314, device='cuda:0') Loss:  0.11903172661550343 Accuracy:  tensor(981.2500, device='cuda:0')\n",
      "Epoch:  198 Correct:  tensor(306, device='cuda:0') Loss:  0.008034972008317709 Accuracy:  tensor(956.2500, device='cuda:0')\n",
      "Epoch:  199 Correct:  tensor(306, device='cuda:0') Loss:  0.008278833702206612 Accuracy:  tensor(956.2500, device='cuda:0')\n",
      "Epoch:  200 Correct:  tensor(306, device='cuda:0') Loss:  0.008556437445804477 Accuracy:  tensor(956.2500, device='cuda:0')\n",
      "Epoch:  201 Correct:  tensor(306, device='cuda:0') Loss:  0.008389388211071491 Accuracy:  tensor(956.2500, device='cuda:0')\n",
      "Epoch:  202 Correct:  tensor(306, device='cuda:0') Loss:  0.009157756459899247 Accuracy:  tensor(956.2500, device='cuda:0')\n",
      "Epoch:  203 Correct:  tensor(306, device='cuda:0') Loss:  0.012308222590945661 Accuracy:  tensor(956.2500, device='cuda:0')\n",
      "Epoch:  204 Correct:  tensor(306, device='cuda:0') Loss:  0.011068620660807937 Accuracy:  tensor(956.2500, device='cuda:0')\n",
      "Epoch:  205 Correct:  tensor(306, device='cuda:0') Loss:  0.019168788043316454 Accuracy:  tensor(956.2500, device='cuda:0')\n",
      "Epoch:  206 Correct:  tensor(306, device='cuda:0') Loss:  0.02020417747553438 Accuracy:  tensor(956.2500, device='cuda:0')\n",
      "Epoch:  207 Correct:  tensor(306, device='cuda:0') Loss:  0.016207116306759417 Accuracy:  tensor(956.2500, device='cuda:0')\n",
      "Epoch:  208 Correct:  tensor(306, device='cuda:0') Loss:  0.022079223301261663 Accuracy:  tensor(956.2500, device='cuda:0')\n",
      "Epoch:  209 Correct:  tensor(306, device='cuda:0') Loss:  0.026026844047009945 Accuracy:  tensor(956.2500, device='cuda:0')\n",
      "Epoch:  210 Correct:  tensor(306, device='cuda:0') Loss:  0.035790713503956795 Accuracy:  tensor(956.2500, device='cuda:0')\n",
      "Epoch:  211 Correct:  tensor(306, device='cuda:0') Loss:  0.028748256503604352 Accuracy:  tensor(956.2500, device='cuda:0')\n",
      "Epoch:  212 Correct:  tensor(306, device='cuda:0') Loss:  0.024781388812698424 Accuracy:  tensor(956.2500, device='cuda:0')\n",
      "Epoch:  213 Correct:  tensor(306, device='cuda:0') Loss:  0.02109608828322962 Accuracy:  tensor(956.2500, device='cuda:0')\n",
      "Epoch:  214 Correct:  tensor(306, device='cuda:0') Loss:  0.020111144636757672 Accuracy:  tensor(956.2500, device='cuda:0')\n",
      "Epoch:  215 Correct:  tensor(306, device='cuda:0') Loss:  0.028755927458405495 Accuracy:  tensor(956.2500, device='cuda:0')\n",
      "Epoch:  216 Correct:  tensor(306, device='cuda:0') Loss:  0.031256795627996325 Accuracy:  tensor(956.2500, device='cuda:0')\n",
      "Epoch:  217 Correct:  tensor(298, device='cuda:0') Loss:  0.04684303019894287 Accuracy:  tensor(931.2500, device='cuda:0')\n",
      "Epoch:  218 Correct:  tensor(306, device='cuda:0') Loss:  0.03533352812519297 Accuracy:  tensor(956.2500, device='cuda:0')\n",
      "Epoch:  219 Correct:  tensor(306, device='cuda:0') Loss:  0.012639996595680714 Accuracy:  tensor(956.2500, device='cuda:0')\n",
      "Epoch:  220 Correct:  tensor(306, device='cuda:0') Loss:  0.026970585866365582 Accuracy:  tensor(956.2500, device='cuda:0')\n",
      "Epoch:  221 Correct:  tensor(306, device='cuda:0') Loss:  0.022809121117461473 Accuracy:  tensor(956.2500, device='cuda:0')\n",
      "Epoch:  222 Correct:  tensor(306, device='cuda:0') Loss:  0.025519928691210225 Accuracy:  tensor(956.2500, device='cuda:0')\n",
      "Epoch:  223 Correct:  tensor(306, device='cuda:0') Loss:  0.0019799345172941685 Accuracy:  tensor(956.2500, device='cuda:0')\n",
      "Epoch:  224 Correct:  tensor(296, device='cuda:0') Loss:  0.5885090380907059 Accuracy:  tensor(925., device='cuda:0')\n",
      "Epoch:  225 Correct:  tensor(306, device='cuda:0') Loss:  0.1705737467855215 Accuracy:  tensor(956.2500, device='cuda:0')\n",
      "Epoch:  226 Correct:  tensor(298, device='cuda:0') Loss:  0.15181791502982378 Accuracy:  tensor(931.2500, device='cuda:0')\n",
      "Epoch:  227 Correct:  tensor(292, device='cuda:0') Loss:  0.4829592704772949 Accuracy:  tensor(912.5000, device='cuda:0')\n",
      "Epoch:  228 Correct:  tensor(284, device='cuda:0') Loss:  0.5391546487808228 Accuracy:  tensor(887.5000, device='cuda:0')\n",
      "Epoch:  229 Correct:  tensor(306, device='cuda:0') Loss:  0.02059041033498943 Accuracy:  tensor(956.2500, device='cuda:0')\n",
      "Epoch:  230 Correct:  tensor(306, device='cuda:0') Loss:  0.026478586718440056 Accuracy:  tensor(956.2500, device='cuda:0')\n",
      "Epoch:  231 Correct:  tensor(306, device='cuda:0') Loss:  0.050680157262831926 Accuracy:  tensor(956.2500, device='cuda:0')\n",
      "Epoch:  232 Correct:  tensor(306, device='cuda:0') Loss:  0.038545934250578284 Accuracy:  tensor(956.2500, device='cuda:0')\n",
      "Epoch:  233 Correct:  tensor(306, device='cuda:0') Loss:  0.03372320020571351 Accuracy:  tensor(956.2500, device='cuda:0')\n",
      "Epoch:  234 Correct:  tensor(306, device='cuda:0') Loss:  0.028932294226251543 Accuracy:  tensor(956.2500, device='cuda:0')\n",
      "Epoch:  235 Correct:  tensor(306, device='cuda:0') Loss:  0.04547926411032677 Accuracy:  tensor(956.2500, device='cuda:0')\n",
      "Epoch:  236 Correct:  tensor(292, device='cuda:0') Loss:  0.13361254706978798 Accuracy:  tensor(912.5000, device='cuda:0')\n",
      "Epoch:  237 Correct:  tensor(306, device='cuda:0') Loss:  0.04612489137798548 Accuracy:  tensor(956.2500, device='cuda:0')\n",
      "Epoch:  238 Correct:  tensor(306, device='cuda:0') Loss:  0.01348344818688929 Accuracy:  tensor(956.2500, device='cuda:0')\n",
      "Epoch:  239 Correct:  tensor(306, device='cuda:0') Loss:  0.02886790526099503 Accuracy:  tensor(956.2500, device='cuda:0')\n",
      "Epoch:  240 Correct:  tensor(298, device='cuda:0') Loss:  0.12636277417186648 Accuracy:  tensor(931.2500, device='cuda:0')\n",
      "Epoch:  241 Correct:  tensor(306, device='cuda:0') Loss:  0.009710177429951727 Accuracy:  tensor(956.2500, device='cuda:0')\n",
      "Epoch:  242 Correct:  tensor(300, device='cuda:0') Loss:  0.1225457713007927 Accuracy:  tensor(937.5000, device='cuda:0')\n",
      "Epoch:  243 Correct:  tensor(306, device='cuda:0') Loss:  0.026643800199963152 Accuracy:  tensor(956.2500, device='cuda:0')\n",
      "Epoch:  244 Correct:  tensor(298, device='cuda:0') Loss:  0.07938734581694007 Accuracy:  tensor(931.2500, device='cuda:0')\n",
      "Epoch:  245 Correct:  tensor(298, device='cuda:0') Loss:  0.08891474083065987 Accuracy:  tensor(931.2500, device='cuda:0')\n",
      "Epoch:  246 Correct:  tensor(292, device='cuda:0') Loss:  0.14635908603668213 Accuracy:  tensor(912.5000, device='cuda:0')\n",
      "Epoch:  247 Correct:  tensor(292, device='cuda:0') Loss:  0.09773236885666847 Accuracy:  tensor(912.5000, device='cuda:0')\n",
      "Epoch:  248 Correct:  tensor(298, device='cuda:0') Loss:  0.07690936513245106 Accuracy:  tensor(931.2500, device='cuda:0')\n",
      "=>> Saving check_point...\n",
      "Epoch:  249 Correct:  tensor(298, device='cuda:0') Loss:  0.08190569921862334 Accuracy:  tensor(931.2500, device='cuda:0')\n"
     ]
    },
    {
     "data": {
      "image/png": "[encoded data removed]",
      "text/plain": [
       "<Figure size 640x480 with 2 Axes>"
      ]
     },
     "metadata": {},
     "output_type": "display_data"
    }
   ],
   "source": [
    "train_hist, test_hist = finetune_loop(ft_model, train_loader=train_loader, test_loader = test_loader, epochs=250,\n",
    "                                      checkpoint='ConvRNN_finetuned_TF')\n",
    "plot_values(train_dict=train_hist, test_dict=test_hist)"
   ]
  },
  {
   "cell_type": "code",
   "execution_count": null,
   "metadata": {},
   "outputs": [],
   "source": []
  }
 ],
 "metadata": {
  "kernelspec": {
   "display_name": "tensor_env",
   "language": "python",
   "name": "python3"
  },
  "language_info": {
   "codemirror_mode": {
    "name": "ipython",
    "version": 3
   },
   "file_extension": ".py",
   "mimetype": "text/x-python",
   "name": "python",
   "nbconvert_exporter": "python",
   "pygments_lexer": "ipython3",
   "version": "3.11.5"
  },
  "orig_nbformat": 4
 },
 "nbformat": 4,
 "nbformat_minor": 2
}
