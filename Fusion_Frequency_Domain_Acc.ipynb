{
 "cells": [
  {
   "cell_type": "code",
   "execution_count": 1,
   "metadata": {},
   "outputs": [
    {
     "name": "stdout",
     "output_type": "stream",
     "text": [
      "WARNING:tensorflow:From c:\\Users\\pc\\anaconda3\\envs\\tensor_env\\Lib\\site-packages\\keras\\src\\losses.py:2976: The name tf.losses.sparse_softmax_cross_entropy is deprecated. Please use tf.compat.v1.losses.sparse_softmax_cross_entropy instead.\n",
      "\n"
     ]
    }
   ],
   "source": [
    "import numpy as np\n",
    "import os \n",
    "from pathlib import Path\n",
    "from tqdm import tqdm\n",
    "from sklearn.model_selection import train_test_split\n",
    "import random\n",
    "import torch\n",
    "import torchvision.transforms as transforms\n",
    "import torch.nn as nn\n",
    "import tensorflow as tf\n",
    "from torch.utils.data import Dataset, DataLoader\n",
    "import torch.optim as optim\n",
    "from sources import utils_spec, loss, models, MMFusion_Model\n",
    "import matplotlib.pyplot as plt"
   ]
  },
  {
   "cell_type": "markdown",
   "metadata": {},
   "source": [
    "### **A) Define the touchgesture model:**"
   ]
  },
  {
   "cell_type": "code",
   "execution_count": 2,
   "metadata": {},
   "outputs": [],
   "source": [
    "device = torch.device('cuda' if torch.cuda.is_available() else 'cpu')\n",
    "touchModel = MMFusion_Model.TouchGestureModel(input_size=4, hidden_size=256, seq_length=1250, num_layers=2, batch_size=16, num_classes=100).to(device)"
   ]
  },
  {
   "cell_type": "markdown",
   "metadata": {},
   "source": [
    "### **B) Define the spectrogram model:**"
   ]
  },
  {
   "cell_type": "code",
   "execution_count": 3,
   "metadata": {},
   "outputs": [],
   "source": [
    "specModel = MMFusion_Model.SpectrogramModel(num_classes=100).to(device)"
   ]
  },
  {
   "cell_type": "code",
   "execution_count": 4,
   "metadata": {},
   "outputs": [],
   "source": [
    "def testSpec(model, input):\n",
    "    x = input.to(device)\n",
    "    y0 = model(x)\n",
    "    print(\"Output shape of spectrogram model: \\n\", y0.shape)\n",
    "    print(y0)\n",
    "    return y0\n",
    "\n",
    "def testTouch(model, in_planes):\n",
    "    x = torch.randn(16, in_planes, 1250)\n",
    "    x = x.to(device)\n",
    "    y0 = model(x)\n",
    "    print(\"output shape of touch model: \\n\", y0.shape)\n",
    "    print(y0)\n",
    "    return y0"
   ]
  },
  {
   "cell_type": "code",
   "execution_count": 5,
   "metadata": {},
   "outputs": [
    {
     "name": "stdout",
     "output_type": "stream",
     "text": [
      "Output shape of spectrogram model: \n",
      " torch.Size([16, 256])\n",
      "tensor([[ 0.0633, -0.1632, -0.1991,  ...,  0.3370,  0.1835,  0.1026],\n",
      "        [-0.2353,  0.0680, -0.4208,  ...,  0.0137,  0.9542,  0.2309],\n",
      "        [-0.3485, -0.5290, -0.0543,  ...,  0.4654,  0.0636,  0.5029],\n",
      "        ...,\n",
      "        [-0.0782, -0.2871, -0.0479,  ..., -0.3285, -0.1606, -0.1179],\n",
      "        [-0.5595, -0.0885, -0.3090,  ...,  0.4209,  0.0761,  0.0301],\n",
      "        [-0.4362,  0.1204, -0.5241,  ..., -0.4228,  0.1319,  0.3102]],\n",
      "       grad_fn=<AddmmBackward0>)\n",
      "output shape of touch model: \n",
      " torch.Size([16, 256])\n",
      "tensor([[-0.0273,  0.3143, -0.5997,  ..., -0.0402, -0.6477, -0.1597],\n",
      "        [-0.3283,  0.2743,  0.1533,  ...,  0.2690,  0.2131, -0.7160],\n",
      "        [-0.1119,  0.1170,  0.2501,  ...,  0.6674, -0.4798,  0.1045],\n",
      "        ...,\n",
      "        [-0.5351, -0.3542, -0.2944,  ...,  0.5684, -0.0594, -0.2096],\n",
      "        [-0.3455,  0.0378,  0.3939,  ..., -0.4248,  0.3016, -0.6531],\n",
      "        [-0.4183,  0.0518, -0.0713,  ...,  0.1132,  0.1742, -0.2481]],\n",
      "       grad_fn=<SliceBackward0>)\n"
     ]
    }
   ],
   "source": [
    "x_spec = torch.randn(16, 3, 65, 71)\n",
    "y_spec = testSpec(specModel, input = x_spec)\n",
    "y_touch = testTouch(touchModel, in_planes=4)"
   ]
  },
  {
   "cell_type": "code",
   "execution_count": 6,
   "metadata": {},
   "outputs": [
    {
     "name": "stdout",
     "output_type": "stream",
     "text": [
      "userID 0\n"
     ]
    },
    {
     "name": "stderr",
     "output_type": "stream",
     "text": [
      "100%|██████████| 10/10 [00:08<00:00,  1.19it/s]\n"
     ]
    },
    {
     "name": "stdout",
     "output_type": "stream",
     "text": [
      "userID 1\n"
     ]
    },
    {
     "name": "stderr",
     "output_type": "stream",
     "text": [
      "100%|██████████| 10/10 [00:07<00:00,  1.43it/s]\n"
     ]
    },
    {
     "name": "stdout",
     "output_type": "stream",
     "text": [
      "userID 2\n"
     ]
    },
    {
     "name": "stderr",
     "output_type": "stream",
     "text": [
      "100%|██████████| 10/10 [00:06<00:00,  1.56it/s]\n"
     ]
    },
    {
     "name": "stdout",
     "output_type": "stream",
     "text": [
      "userID 3\n"
     ]
    },
    {
     "name": "stderr",
     "output_type": "stream",
     "text": [
      "100%|██████████| 10/10 [00:04<00:00,  2.29it/s]\n"
     ]
    },
    {
     "name": "stdout",
     "output_type": "stream",
     "text": [
      "userID 4\n"
     ]
    },
    {
     "name": "stderr",
     "output_type": "stream",
     "text": [
      "100%|██████████| 10/10 [00:07<00:00,  1.32it/s]\n"
     ]
    },
    {
     "name": "stdout",
     "output_type": "stream",
     "text": [
      "userID 5\n"
     ]
    },
    {
     "name": "stderr",
     "output_type": "stream",
     "text": [
      "100%|██████████| 10/10 [00:09<00:00,  1.06it/s]\n"
     ]
    },
    {
     "name": "stdout",
     "output_type": "stream",
     "text": [
      "userID 6\n"
     ]
    },
    {
     "name": "stderr",
     "output_type": "stream",
     "text": [
      "100%|██████████| 10/10 [00:08<00:00,  1.19it/s]\n"
     ]
    },
    {
     "name": "stdout",
     "output_type": "stream",
     "text": [
      "userID 7\n"
     ]
    },
    {
     "name": "stderr",
     "output_type": "stream",
     "text": [
      "100%|██████████| 10/10 [00:11<00:00,  1.17s/it]\n"
     ]
    },
    {
     "name": "stdout",
     "output_type": "stream",
     "text": [
      "userID 8\n"
     ]
    },
    {
     "name": "stderr",
     "output_type": "stream",
     "text": [
      "100%|██████████| 10/10 [00:03<00:00,  2.80it/s]\n"
     ]
    },
    {
     "name": "stdout",
     "output_type": "stream",
     "text": [
      "userID 9\n"
     ]
    },
    {
     "name": "stderr",
     "output_type": "stream",
     "text": [
      "100%|██████████| 10/10 [00:05<00:00,  1.70it/s]\n"
     ]
    },
    {
     "name": "stdout",
     "output_type": "stream",
     "text": [
      "userID 10\n"
     ]
    },
    {
     "name": "stderr",
     "output_type": "stream",
     "text": [
      "100%|██████████| 10/10 [00:06<00:00,  1.45it/s]\n"
     ]
    },
    {
     "name": "stdout",
     "output_type": "stream",
     "text": [
      "userID 11\n"
     ]
    },
    {
     "name": "stderr",
     "output_type": "stream",
     "text": [
      "100%|██████████| 10/10 [00:07<00:00,  1.26it/s]\n"
     ]
    },
    {
     "name": "stdout",
     "output_type": "stream",
     "text": [
      "userID 12\n"
     ]
    },
    {
     "name": "stderr",
     "output_type": "stream",
     "text": [
      "100%|██████████| 10/10 [00:12<00:00,  1.22s/it]\n"
     ]
    },
    {
     "name": "stdout",
     "output_type": "stream",
     "text": [
      "userID 13\n"
     ]
    },
    {
     "name": "stderr",
     "output_type": "stream",
     "text": [
      "100%|██████████| 10/10 [00:07<00:00,  1.35it/s]\n"
     ]
    },
    {
     "name": "stdout",
     "output_type": "stream",
     "text": [
      "userID 14\n"
     ]
    },
    {
     "name": "stderr",
     "output_type": "stream",
     "text": [
      "100%|██████████| 10/10 [00:06<00:00,  1.53it/s]\n"
     ]
    },
    {
     "name": "stdout",
     "output_type": "stream",
     "text": [
      "userID 15\n"
     ]
    },
    {
     "name": "stderr",
     "output_type": "stream",
     "text": [
      "100%|██████████| 10/10 [00:08<00:00,  1.23it/s]\n"
     ]
    },
    {
     "name": "stdout",
     "output_type": "stream",
     "text": [
      "userID 16\n"
     ]
    },
    {
     "name": "stderr",
     "output_type": "stream",
     "text": [
      "100%|██████████| 10/10 [00:06<00:00,  1.61it/s]\n"
     ]
    },
    {
     "name": "stdout",
     "output_type": "stream",
     "text": [
      "userID 17\n"
     ]
    },
    {
     "name": "stderr",
     "output_type": "stream",
     "text": [
      "100%|██████████| 10/10 [00:08<00:00,  1.22it/s]\n"
     ]
    },
    {
     "name": "stdout",
     "output_type": "stream",
     "text": [
      "userID 18\n"
     ]
    },
    {
     "name": "stderr",
     "output_type": "stream",
     "text": [
      "100%|██████████| 10/10 [00:05<00:00,  1.83it/s]\n"
     ]
    },
    {
     "name": "stdout",
     "output_type": "stream",
     "text": [
      "userID 19\n"
     ]
    },
    {
     "name": "stderr",
     "output_type": "stream",
     "text": [
      "100%|██████████| 10/10 [00:04<00:00,  2.07it/s]\n"
     ]
    },
    {
     "name": "stdout",
     "output_type": "stream",
     "text": [
      "userID 20\n"
     ]
    },
    {
     "name": "stderr",
     "output_type": "stream",
     "text": [
      "100%|██████████| 10/10 [00:05<00:00,  1.75it/s]\n"
     ]
    },
    {
     "name": "stdout",
     "output_type": "stream",
     "text": [
      "userID 21\n"
     ]
    },
    {
     "name": "stderr",
     "output_type": "stream",
     "text": [
      "100%|██████████| 10/10 [00:07<00:00,  1.42it/s]\n"
     ]
    },
    {
     "name": "stdout",
     "output_type": "stream",
     "text": [
      "userID 22\n"
     ]
    },
    {
     "name": "stderr",
     "output_type": "stream",
     "text": [
      "100%|██████████| 10/10 [00:05<00:00,  1.82it/s]\n"
     ]
    },
    {
     "name": "stdout",
     "output_type": "stream",
     "text": [
      "userID 23\n"
     ]
    },
    {
     "name": "stderr",
     "output_type": "stream",
     "text": [
      "100%|██████████| 10/10 [00:08<00:00,  1.13it/s]\n"
     ]
    },
    {
     "name": "stdout",
     "output_type": "stream",
     "text": [
      "userID 24\n"
     ]
    },
    {
     "name": "stderr",
     "output_type": "stream",
     "text": [
      "100%|██████████| 10/10 [00:11<00:00,  1.14s/it]\n"
     ]
    },
    {
     "name": "stdout",
     "output_type": "stream",
     "text": [
      "userID 25\n"
     ]
    },
    {
     "name": "stderr",
     "output_type": "stream",
     "text": [
      "100%|██████████| 10/10 [00:06<00:00,  1.66it/s]\n"
     ]
    },
    {
     "name": "stdout",
     "output_type": "stream",
     "text": [
      "userID 26\n"
     ]
    },
    {
     "name": "stderr",
     "output_type": "stream",
     "text": [
      "100%|██████████| 10/10 [00:08<00:00,  1.14it/s]\n"
     ]
    },
    {
     "name": "stdout",
     "output_type": "stream",
     "text": [
      "userID 27\n"
     ]
    },
    {
     "name": "stderr",
     "output_type": "stream",
     "text": [
      "100%|██████████| 10/10 [00:08<00:00,  1.13it/s]\n"
     ]
    },
    {
     "name": "stdout",
     "output_type": "stream",
     "text": [
      "userID 28\n"
     ]
    },
    {
     "name": "stderr",
     "output_type": "stream",
     "text": [
      "100%|██████████| 10/10 [00:05<00:00,  1.84it/s]\n"
     ]
    },
    {
     "name": "stdout",
     "output_type": "stream",
     "text": [
      "userID 29\n"
     ]
    },
    {
     "name": "stderr",
     "output_type": "stream",
     "text": [
      "100%|██████████| 10/10 [00:05<00:00,  1.94it/s]\n"
     ]
    },
    {
     "name": "stdout",
     "output_type": "stream",
     "text": [
      "userID 30\n"
     ]
    },
    {
     "name": "stderr",
     "output_type": "stream",
     "text": [
      "100%|██████████| 10/10 [00:06<00:00,  1.64it/s]\n"
     ]
    },
    {
     "name": "stdout",
     "output_type": "stream",
     "text": [
      "userID 31\n"
     ]
    },
    {
     "name": "stderr",
     "output_type": "stream",
     "text": [
      "100%|██████████| 10/10 [00:07<00:00,  1.31it/s]\n"
     ]
    },
    {
     "name": "stdout",
     "output_type": "stream",
     "text": [
      "userID 32\n"
     ]
    },
    {
     "name": "stderr",
     "output_type": "stream",
     "text": [
      "100%|██████████| 10/10 [00:05<00:00,  1.67it/s]\n"
     ]
    },
    {
     "name": "stdout",
     "output_type": "stream",
     "text": [
      "userID 33\n"
     ]
    },
    {
     "name": "stderr",
     "output_type": "stream",
     "text": [
      "100%|██████████| 10/10 [00:05<00:00,  1.81it/s]\n"
     ]
    },
    {
     "name": "stdout",
     "output_type": "stream",
     "text": [
      "userID 34\n"
     ]
    },
    {
     "name": "stderr",
     "output_type": "stream",
     "text": [
      "100%|██████████| 10/10 [00:05<00:00,  1.92it/s]\n"
     ]
    },
    {
     "name": "stdout",
     "output_type": "stream",
     "text": [
      "userID 35\n"
     ]
    },
    {
     "name": "stderr",
     "output_type": "stream",
     "text": [
      "100%|██████████| 10/10 [00:08<00:00,  1.12it/s]\n"
     ]
    },
    {
     "name": "stdout",
     "output_type": "stream",
     "text": [
      "userID 36\n"
     ]
    },
    {
     "name": "stderr",
     "output_type": "stream",
     "text": [
      "100%|██████████| 10/10 [00:06<00:00,  1.43it/s]\n"
     ]
    },
    {
     "name": "stdout",
     "output_type": "stream",
     "text": [
      "userID 37\n"
     ]
    },
    {
     "name": "stderr",
     "output_type": "stream",
     "text": [
      "100%|██████████| 10/10 [00:03<00:00,  2.65it/s]\n"
     ]
    },
    {
     "name": "stdout",
     "output_type": "stream",
     "text": [
      "userID 38\n"
     ]
    },
    {
     "name": "stderr",
     "output_type": "stream",
     "text": [
      "100%|██████████| 10/10 [00:08<00:00,  1.25it/s]\n"
     ]
    },
    {
     "name": "stdout",
     "output_type": "stream",
     "text": [
      "userID 39\n"
     ]
    },
    {
     "name": "stderr",
     "output_type": "stream",
     "text": [
      "100%|██████████| 10/10 [00:06<00:00,  1.51it/s]"
     ]
    },
    {
     "name": "stdout",
     "output_type": "stream",
     "text": [
      "(400, 10000, 3)\n",
      "(400, 10000, 4)\n",
      "(400,)\n"
     ]
    },
    {
     "name": "stderr",
     "output_type": "stream",
     "text": [
      "\n"
     ]
    }
   ],
   "source": [
    "Logs, touch_ds, y = utils_spec.dataGenerator(numUsers=39, session=10)"
   ]
  },
  {
   "cell_type": "markdown",
   "metadata": {},
   "source": [
    "### Shape of Logs: (2, 10000, 3), because I have computed the norm for each sensor before loading them"
   ]
  },
  {
   "cell_type": "code",
   "execution_count": 7,
   "metadata": {},
   "outputs": [
    {
     "name": "stdout",
     "output_type": "stream",
     "text": [
      "(3200, 1250, 3)\n",
      "(3200,)\n"
     ]
    }
   ],
   "source": [
    "numof_chunks = 8 # divide data on multu chunks (numof_chunks = 1 -> process the hole csv file)\n",
    "\n",
    "Logs_2 = Logs.reshape(Logs.shape[0] * numof_chunks, Logs.shape[1]//numof_chunks, -1)\n",
    "\n",
    "y_labels = []\n",
    "\n",
    "for y0 in y:\n",
    "    y_labels.append(np.zeros(numof_chunks) + y0)\n",
    "\n",
    "y_labels = np.reshape(y_labels, -1)\n",
    "\n",
    "print(Logs_2.shape)\n",
    "print(y_labels.shape)"
   ]
  },
  {
   "cell_type": "code",
   "execution_count": 8,
   "metadata": {},
   "outputs": [
    {
     "name": "stdout",
     "output_type": "stream",
     "text": [
      "(3200, 1250, 4)\n"
     ]
    }
   ],
   "source": [
    "touch_logs = touch_ds.reshape(touch_ds.shape[0]*numof_chunks, touch_ds.shape[1]//numof_chunks, -1)\n",
    "print(touch_logs.shape)"
   ]
  },
  {
   "cell_type": "code",
   "execution_count": 9,
   "metadata": {},
   "outputs": [
    {
     "name": "stdout",
     "output_type": "stream",
     "text": [
      "(3200, 3, 1250)\n"
     ]
    },
    {
     "name": "stderr",
     "output_type": "stream",
     "text": [
      "100%|██████████| 3200/3200 [00:19<00:00, 164.11it/s]\n"
     ]
    },
    {
     "name": "stdout",
     "output_type": "stream",
     "text": [
      "(3200, 65, 71, 3)\n"
     ]
    }
   ],
   "source": [
    "x_spec = []\n",
    "y_spec = []\n",
    "\n",
    "#transpose data, fourier transform is applied on horizontal data\n",
    "X = np.transpose(Logs_2, axes = [0, -1, 1])\n",
    "print(X.shape)\n",
    "\n",
    "for i, x in enumerate(tqdm(X)):\n",
    "    x = abs(tf.signal.stft(x, 128, 16))\n",
    "    x_spec.append(x)#, window_fn=window_fn))\n",
    "    \n",
    "x_spec = np.stack(x_spec)\n",
    "\n",
    "#put the number of channels in the last axe to have the same data format supported by TensorFlow (9 channels) \n",
    "x_spec = np.transpose(x_spec, axes = [0, 3, 2, 1])\n",
    "# config originale: [0, 3, 2, 1]\n",
    "\n",
    "print(x_spec.shape)\n"
   ]
  },
  {
   "cell_type": "code",
   "execution_count": 10,
   "metadata": {},
   "outputs": [
    {
     "name": "stdout",
     "output_type": "stream",
     "text": [
      "(65, 71, 3)\n"
     ]
    },
    {
     "data": {
      "image/png": "[encoded data removed]",
      "text/plain": [
       "<Figure size 1400x800 with 3 Axes>"
      ]
     },
     "metadata": {},
     "output_type": "display_data"
    }
   ],
   "source": [
    "print(x_spec[0].shape)\n",
    "\n",
    "sample = 0\n",
    "#sample = 50\n",
    "\n",
    "title = [\"Accelerometer\", \"Gyro\", \"Magnetometer\"]\n",
    "for i in range(3):\n",
    "    plt.figure(figsize = (14, 8))\n",
    "    plt.subplot(1, 3, 1)\n",
    "    plt.imshow(10*np.log10(x_spec[sample, :, :, 0] + 1e-4), cmap='plasma')\n",
    "    #plt.ylabel(\"Frequency\", fontsize = 12)\n",
    "    plt.subplot(1, 3, 2)\n",
    "    plt.imshow(10*np.log10(x_spec[sample, :, :, 1] + 1e-4), cmap='plasma')\n",
    "    plt.xlabel(\"From left to right:     Acc_x,  Acc_y,  Acc_z\", fontsize = 12)\n",
    "    #plt.title(title[i] + \" - userID:{}\".format(int(y2[sample])), fontsize = 12)\n",
    "    plt.subplot(1, 3, 3)\n",
    "    plt.imshow(10*np.log10(x_spec[sample, :, :, 2] + 1e-4), cmap='plasma')\n",
    "    \n",
    "    plt.show()\n",
    "    break"
   ]
  },
  {
   "cell_type": "code",
   "execution_count": 11,
   "metadata": {},
   "outputs": [],
   "source": [
    "sensorFusion = MMFusion_Model.fusionFFN(num_logits=256).to(device)\n",
    "touchFusion = MMFusion_Model.fusionFFN(num_logits=256).to(device)\n",
    "\n",
    "fusion_model = MMFusion_Model.pred_model(sensorModelPred=specModel, touchModelPred=touchModel, sensorFusionPred=sensorFusion, touchFusionPred=touchFusion,  fusion=True).to(device)"
   ]
  },
  {
   "cell_type": "code",
   "execution_count": 12,
   "metadata": {},
   "outputs": [],
   "source": [
    "def test_fusion_pred():\n",
    "    x1 = torch.randn(16, 3, 65, 71).to(device)\n",
    "    x2 = torch.randn(16,4, 1250).to(device)\n",
    "    y_i, y_j, y_fi, y_fj = fusion_model(x1, x2)\n",
    "    return y_i, y_j, y_fi, y_fj\n",
    "\n",
    "y0, y1, y2, y3 =test_fusion_pred()"
   ]
  },
  {
   "cell_type": "code",
   "execution_count": 13,
   "metadata": {},
   "outputs": [
    {
     "name": "stdout",
     "output_type": "stream",
     "text": [
      "torch.Size([16, 256])\n",
      "torch.Size([16, 256])\n",
      "torch.Size([16, 256])\n",
      "torch.Size([16, 256])\n"
     ]
    }
   ],
   "source": [
    "print(y0.shape)\n",
    "print(y1.shape)\n",
    "print(y2.shape)\n",
    "print(y3.shape)"
   ]
  },
  {
   "cell_type": "code",
   "execution_count": 14,
   "metadata": {},
   "outputs": [],
   "source": [
    "x_train_sensor, x_test_sensor, y_train_sensor, y_test_sensor = train_test_split(x_spec, y_labels, test_size=0.2, shuffle=True, random_state=10)\n",
    "x_train_touch, x_test_touch, y_train_touch, y_test_touch = train_test_split(touch_logs, y_labels, test_size=0.2, shuffle=True, random_state=10)"
   ]
  },
  {
   "cell_type": "markdown",
   "metadata": {},
   "source": [
    "### **Dataset:**"
   ]
  },
  {
   "cell_type": "code",
   "execution_count": 15,
   "metadata": {},
   "outputs": [],
   "source": [
    "class contrastiveDataset(Dataset):\n",
    "    \n",
    "    def __init__(self, X_i, X_j, transform=None):\n",
    "\n",
    "        self.sensorData = np.array(X_i)\n",
    "        self.touchData = np.array(X_j)\n",
    "        \n",
    "        self.transform = transform\n",
    "\n",
    "    def __getitem__(self, i):\n",
    "        x_i = self.sensorData[i]\n",
    "        x_j = self.touchData[i]\n",
    "        \n",
    "\n",
    "        x_i = self.transform(x_i)\n",
    "        x_j = self.transform(x_j)\n",
    "\n",
    "        return (x_i, x_j)\n",
    "    \n",
    "    def __len__(self):\n",
    "        return len(self.sensorData)"
   ]
  },
  {
   "cell_type": "code",
   "execution_count": 16,
   "metadata": {},
   "outputs": [],
   "source": [
    "transform = transforms.Compose([transforms.ToTensor()])\n",
    "train_set = contrastiveDataset(X_i=x_train_sensor, X_j=x_train_touch, transform=transform)\n",
    "test_set = contrastiveDataset(X_i=x_test_sensor, X_j = x_test_touch, transform=transform)"
   ]
  },
  {
   "cell_type": "code",
   "execution_count": 17,
   "metadata": {},
   "outputs": [],
   "source": [
    "train_loader = DataLoader(train_set, batch_size=16, shuffle=True, drop_last=True)\n",
    "test_loader = DataLoader(test_set, batch_size=16, shuffle=True, drop_last=True)\n",
    "device = torch.device('cuda' if torch.cuda.is_available() else 'cpu')"
   ]
  },
  {
   "cell_type": "markdown",
   "metadata": {},
   "source": [
    "##### **C ) Display the data from train and test loaders**"
   ]
  },
  {
   "cell_type": "code",
   "execution_count": 18,
   "metadata": {},
   "outputs": [
    {
     "name": "stdout",
     "output_type": "stream",
     "text": [
      "Train Sample:  0\n",
      "X1 shape: torch.Size([16, 3, 65, 71])\n",
      "X2 shape: torch.Size([16, 1250, 4])\n"
     ]
    }
   ],
   "source": [
    "for i, (x1, x2) in enumerate(train_loader):\n",
    "    x1 = np.squeeze(x1, axis=1)\n",
    "    x2 = np.squeeze(x2, axis=1)\n",
    "    print(\"Train Sample: \", i)\n",
    "    print(\"X1 shape: {}\".format(x1.shape))\n",
    "    print(\"X2 shape: {}\".format(x2.shape))\n",
    "    break"
   ]
  },
  {
   "cell_type": "code",
   "execution_count": 19,
   "metadata": {},
   "outputs": [
    {
     "name": "stdout",
     "output_type": "stream",
     "text": [
      "Train Sample:  0\n",
      "X1 shape: torch.Size([16, 3, 65, 71])\n",
      "X2 shape: torch.Size([16, 1250, 4])\n"
     ]
    }
   ],
   "source": [
    "for i, (x1, x2) in enumerate(test_loader):\n",
    "    x1 = np.squeeze(x1, axis=1)\n",
    "    x2 = np.squeeze(x2, axis=1)\n",
    "    print(\"Train Sample: \", i)\n",
    "    print(\"X1 shape: {}\".format(x1.shape))\n",
    "    print(\"X2 shape: {}\".format(x2.shape))\n",
    "    break"
   ]
  },
  {
   "cell_type": "code",
   "execution_count": 20,
   "metadata": {},
   "outputs": [],
   "source": [
    "'''\n",
    "Self Supervised pre-training with fusion model\n",
    "'''\n",
    "model_history = {'train_loss':[], 'validation_loss':[]}\n",
    "device = torch.device('cuda' if torch.cuda.is_available() else 'cpu')\n",
    "\n",
    "if not os.path.isdir('pretrained_models/fusion/HMOG'):\n",
    "    os.mkdir('pretrained_models/fusion/HMOG')\n",
    "path = 'pretrained_models/fusion/HMOG/'\n",
    "\n",
    "\n",
    "def save_checkpoint(state, model='model'):\n",
    "\n",
    "    filename = str(model) + '.pth'\n",
    "    path_folder = os.path.join(path, filename)\n",
    "    print(\"=>> Saving check_point...\")\n",
    "    torch.save(state, path_folder)\n",
    "\n",
    "def train_test_loop(model, train_loader, test_loader, loss, epochs, check_point='model'):\n",
    "    optimizer = optim.SGD(model.parameters(), lr=0.001, momentum=0.9, weight_decay=5e-4, nesterov=True)\n",
    "    scheduler = torch.optim.lr_scheduler.StepLR(optimizer, step_size=250, gamma=0.1)\n",
    "    criterion = loss.Contrastive_Loss(batch_size=16, temperature=0.5)\n",
    "\n",
    "    for epoch in range(epochs):\n",
    "        model.train()\n",
    "        train_loss = 0\n",
    "        total = 0\n",
    "\n",
    "        if epoch == epochs-1:\n",
    "            state = model.state_dict()\n",
    "            \n",
    "            save_checkpoint(state=state, model=check_point)\n",
    "            \n",
    "        for step, (x_i, x_j) in enumerate(train_loader):\n",
    "            \n",
    "            optimizer.zero_grad()\n",
    "            x_i = x_i.squeeze().to(device).float()\n",
    "            x_j = x_j.squeeze().to(device).float()\n",
    "            \n",
    "            z_i, z_j, z_fi, z_fj = model(x_i, x_j)\n",
    "            \n",
    "            \n",
    "            loss1 = criterion(z_i, z_j)\n",
    "\n",
    "            loss2 = criterion(z_fi, z_fj)\n",
    "\n",
    "            loss = loss1 + loss2\n",
    "            \n",
    "            loss.backward()\n",
    "            \n",
    "            optimizer.step()\n",
    "            \n",
    "            train_loss += loss.item()\n",
    "            \n",
    "            total += x_i.size(0)\n",
    "            \n",
    "        model_history['train_loss'].append(train_loss/total)\n",
    "\n",
    "        model.eval()\n",
    "        test_loss = 0\n",
    "        total = 0\n",
    "        with torch.no_grad():\n",
    "            for step, (x_i, x_j) in enumerate(test_loader):\n",
    "                \n",
    "                x_i = x_i.squeeze().to(device).float()\n",
    "                x_j = x_j.squeeze().to(device).float()\n",
    "                \n",
    "                z_i, z_j, z_fi, z_fj = model(x_i, x_j)\n",
    "\n",
    "                loss1 = criterion(z_i, z_j)\n",
    "                \n",
    "                loss2 = criterion(z_fi, z_fj)\n",
    "\n",
    "                loss = loss1 + loss2\n",
    "                \n",
    "                test_loss += loss.item()\n",
    "                total += x_i.size(0)\n",
    "\n",
    "                \n",
    "            model_history['validation_loss'].append(test_loss/total)\n",
    "\n",
    "        print(\n",
    "            \"Epoch: \", epoch,\n",
    "            \"Loss: \", test_loss/total,\n",
    "            \"Total is: \",total\n",
    "        )  \n",
    "        \n",
    "    return model_history"
   ]
  },
  {
   "cell_type": "code",
   "execution_count": 21,
   "metadata": {},
   "outputs": [],
   "source": [
    "def plot_values(model_dict):\n",
    "    x_axis = range(0,len(model_dict[\"train_loss\"]))\n",
    "    fig, ax = plt.subplots(dpi=100)\n",
    "    ax.plot(x_axis, model_dict['train_loss'], '-', label='Training loss')\n",
    "    ax.plot(x_axis, model_dict['validation_loss'], '-', label='Validation loss', color='r')\n",
    "    ax.legend()\n",
    "    plt.ylabel('Contrastive Loss Function')\n",
    "    ax.grid()\n",
    "    plt.show()"
   ]
  },
  {
   "cell_type": "code",
   "execution_count": 22,
   "metadata": {},
   "outputs": [
    {
     "name": "stdout",
     "output_type": "stream",
     "text": [
      "Epoch:  0 Loss:  0.3547694690525532 Total is:  640\n",
      "Epoch:  1 Loss:  0.3477419488132 Total is:  640\n",
      "Epoch:  2 Loss:  0.339847507327795 Total is:  640\n",
      "Epoch:  3 Loss:  0.34107223600149156 Total is:  640\n",
      "Epoch:  4 Loss:  0.33540449365973474 Total is:  640\n",
      "Epoch:  5 Loss:  0.33385988846421244 Total is:  640\n",
      "Epoch:  6 Loss:  0.33666050210595133 Total is:  640\n",
      "Epoch:  7 Loss:  0.3387994147837162 Total is:  640\n",
      "Epoch:  8 Loss:  0.3339925304055214 Total is:  640\n",
      "Epoch:  9 Loss:  0.34155197590589526 Total is:  640\n",
      "Epoch:  10 Loss:  0.33020918145775796 Total is:  640\n",
      "Epoch:  11 Loss:  0.3265080347657204 Total is:  640\n",
      "Epoch:  12 Loss:  0.32721803784370423 Total is:  640\n",
      "Epoch:  13 Loss:  0.32357136011123655 Total is:  640\n",
      "Epoch:  14 Loss:  0.32122054770588876 Total is:  640\n",
      "Epoch:  15 Loss:  0.3227573484182358 Total is:  640\n",
      "Epoch:  16 Loss:  0.3197453632950783 Total is:  640\n",
      "Epoch:  17 Loss:  0.3287549167871475 Total is:  640\n",
      "Epoch:  18 Loss:  0.3184245266020298 Total is:  640\n",
      "Epoch:  19 Loss:  0.31873704865574837 Total is:  640\n",
      "Epoch:  20 Loss:  0.3170169122517109 Total is:  640\n",
      "Epoch:  21 Loss:  0.3219311825931072 Total is:  640\n",
      "Epoch:  22 Loss:  0.3160393424332142 Total is:  640\n",
      "Epoch:  23 Loss:  0.3131754003465176 Total is:  640\n",
      "Epoch:  24 Loss:  0.31344924345612524 Total is:  640\n",
      "Epoch:  25 Loss:  0.31318544745445254 Total is:  640\n",
      "Epoch:  26 Loss:  0.31147561594843864 Total is:  640\n",
      "Epoch:  27 Loss:  0.31258374229073527 Total is:  640\n",
      "Epoch:  28 Loss:  0.3106984063982964 Total is:  640\n",
      "Epoch:  29 Loss:  0.3175847217440605 Total is:  640\n",
      "Epoch:  30 Loss:  0.31262601241469384 Total is:  640\n",
      "Epoch:  31 Loss:  0.3146499902009964 Total is:  640\n",
      "Epoch:  32 Loss:  0.3116068162024021 Total is:  640\n",
      "Epoch:  33 Loss:  0.3132505178451538 Total is:  640\n",
      "Epoch:  34 Loss:  0.31262424364686014 Total is:  640\n",
      "Epoch:  35 Loss:  0.3114346548914909 Total is:  640\n",
      "Epoch:  36 Loss:  0.3106508947908878 Total is:  640\n",
      "Epoch:  37 Loss:  0.3141398780047894 Total is:  640\n",
      "Epoch:  38 Loss:  0.30856414064764975 Total is:  640\n",
      "Epoch:  39 Loss:  0.31092683896422385 Total is:  640\n",
      "Epoch:  40 Loss:  0.3104840837419033 Total is:  640\n",
      "Epoch:  41 Loss:  0.3080982811748981 Total is:  640\n",
      "Epoch:  42 Loss:  0.30937500968575476 Total is:  640\n",
      "Epoch:  43 Loss:  0.30770104452967645 Total is:  640\n",
      "Epoch:  44 Loss:  0.3120411828160286 Total is:  640\n",
      "Epoch:  45 Loss:  0.30696772038936615 Total is:  640\n",
      "Epoch:  46 Loss:  0.31077943593263624 Total is:  640\n",
      "Epoch:  47 Loss:  0.3114635072648525 Total is:  640\n",
      "Epoch:  48 Loss:  0.3108690522611141 Total is:  640\n",
      "Epoch:  49 Loss:  0.30489879474043846 Total is:  640\n",
      "Epoch:  50 Loss:  0.3085197158157825 Total is:  640\n",
      "Epoch:  51 Loss:  0.31033873558044434 Total is:  640\n",
      "Epoch:  52 Loss:  0.3057061232626438 Total is:  640\n",
      "Epoch:  53 Loss:  0.30607873424887655 Total is:  640\n",
      "Epoch:  54 Loss:  0.30696978643536565 Total is:  640\n",
      "Epoch:  55 Loss:  0.30651279613375665 Total is:  640\n",
      "Epoch:  56 Loss:  0.3084913447499275 Total is:  640\n",
      "Epoch:  57 Loss:  0.30715648382902144 Total is:  640\n",
      "Epoch:  58 Loss:  0.3049315042793751 Total is:  640\n",
      "Epoch:  59 Loss:  0.3078092820942402 Total is:  640\n",
      "Epoch:  60 Loss:  0.30669436901807784 Total is:  640\n",
      "Epoch:  61 Loss:  0.3041657418012619 Total is:  640\n",
      "Epoch:  62 Loss:  0.3155109524726868 Total is:  640\n",
      "Epoch:  63 Loss:  0.30453455820679665 Total is:  640\n",
      "Epoch:  64 Loss:  0.3089211605489254 Total is:  640\n",
      "Epoch:  65 Loss:  0.3053927205502987 Total is:  640\n",
      "Epoch:  66 Loss:  0.30435175374150275 Total is:  640\n",
      "Epoch:  67 Loss:  0.30531042739748954 Total is:  640\n",
      "Epoch:  68 Loss:  0.30258130729198457 Total is:  640\n",
      "Epoch:  69 Loss:  0.30604496896266936 Total is:  640\n",
      "Epoch:  70 Loss:  0.3052211806178093 Total is:  640\n",
      "Epoch:  71 Loss:  0.307349319756031 Total is:  640\n",
      "Epoch:  72 Loss:  0.30149365290999414 Total is:  640\n",
      "Epoch:  73 Loss:  0.3040780544281006 Total is:  640\n",
      "Epoch:  74 Loss:  0.3039740301668644 Total is:  640\n",
      "Epoch:  75 Loss:  0.30558786168694496 Total is:  640\n",
      "Epoch:  76 Loss:  0.30673394426703454 Total is:  640\n",
      "Epoch:  77 Loss:  0.3057649627327919 Total is:  640\n",
      "Epoch:  78 Loss:  0.3045487910509109 Total is:  640\n",
      "Epoch:  79 Loss:  0.30516422390937803 Total is:  640\n",
      "Epoch:  80 Loss:  0.3059385508298874 Total is:  640\n",
      "Epoch:  81 Loss:  0.3033322595059872 Total is:  640\n",
      "Epoch:  82 Loss:  0.30250469222664833 Total is:  640\n",
      "Epoch:  83 Loss:  0.3033495917916298 Total is:  640\n",
      "Epoch:  84 Loss:  0.30748685672879217 Total is:  640\n",
      "Epoch:  85 Loss:  0.3046631425619125 Total is:  640\n",
      "Epoch:  86 Loss:  0.30179801434278486 Total is:  640\n",
      "Epoch:  87 Loss:  0.3068367600440979 Total is:  640\n",
      "Epoch:  88 Loss:  0.3028456084430218 Total is:  640\n",
      "Epoch:  89 Loss:  0.30171054154634475 Total is:  640\n",
      "Epoch:  90 Loss:  0.302338432520628 Total is:  640\n",
      "Epoch:  91 Loss:  0.3033279478549957 Total is:  640\n",
      "Epoch:  92 Loss:  0.3013000264763832 Total is:  640\n",
      "Epoch:  93 Loss:  0.3018088795244694 Total is:  640\n",
      "Epoch:  94 Loss:  0.30421818867325784 Total is:  640\n",
      "Epoch:  95 Loss:  0.30250815451145174 Total is:  640\n",
      "Epoch:  96 Loss:  0.302912225574255 Total is:  640\n",
      "Epoch:  97 Loss:  0.3020735211670399 Total is:  640\n",
      "Epoch:  98 Loss:  0.3041397877037525 Total is:  640\n",
      "Epoch:  99 Loss:  0.29983107224106786 Total is:  640\n",
      "Epoch:  100 Loss:  0.3020428717136383 Total is:  640\n",
      "Epoch:  101 Loss:  0.30237111672759054 Total is:  640\n",
      "Epoch:  102 Loss:  0.2994715258479118 Total is:  640\n",
      "Epoch:  103 Loss:  0.30482523813843726 Total is:  640\n",
      "Epoch:  104 Loss:  0.30201999470591545 Total is:  640\n",
      "Epoch:  105 Loss:  0.29853066354990004 Total is:  640\n",
      "Epoch:  106 Loss:  0.2985890954732895 Total is:  640\n",
      "Epoch:  107 Loss:  0.30016898065805436 Total is:  640\n",
      "Epoch:  108 Loss:  0.30155080035328863 Total is:  640\n",
      "Epoch:  109 Loss:  0.30044033080339433 Total is:  640\n",
      "Epoch:  110 Loss:  0.3018785580992699 Total is:  640\n",
      "Epoch:  111 Loss:  0.29850354343652724 Total is:  640\n",
      "Epoch:  112 Loss:  0.30076693221926687 Total is:  640\n",
      "Epoch:  113 Loss:  0.3017808169126511 Total is:  640\n",
      "Epoch:  114 Loss:  0.3018497586250305 Total is:  640\n",
      "Epoch:  115 Loss:  0.29984588772058485 Total is:  640\n",
      "Epoch:  116 Loss:  0.29929054006934164 Total is:  640\n",
      "Epoch:  117 Loss:  0.29721391052007673 Total is:  640\n",
      "Epoch:  118 Loss:  0.29846730306744573 Total is:  640\n",
      "Epoch:  119 Loss:  0.2992788411676884 Total is:  640\n",
      "Epoch:  120 Loss:  0.2984180524945259 Total is:  640\n",
      "Epoch:  121 Loss:  0.3008615247905254 Total is:  640\n",
      "Epoch:  122 Loss:  0.3001903802156448 Total is:  640\n",
      "Epoch:  123 Loss:  0.30420638993382454 Total is:  640\n",
      "Epoch:  124 Loss:  0.30070401951670644 Total is:  640\n",
      "Epoch:  125 Loss:  0.29993958696722983 Total is:  640\n",
      "Epoch:  126 Loss:  0.30103239342570304 Total is:  640\n",
      "Epoch:  127 Loss:  0.2988615930080414 Total is:  640\n",
      "Epoch:  128 Loss:  0.3010694906115532 Total is:  640\n",
      "Epoch:  129 Loss:  0.2989163905382156 Total is:  640\n",
      "Epoch:  130 Loss:  0.30155046433210375 Total is:  640\n",
      "Epoch:  131 Loss:  0.3006096757948399 Total is:  640\n",
      "Epoch:  132 Loss:  0.298535980284214 Total is:  640\n",
      "Epoch:  133 Loss:  0.2989270344376564 Total is:  640\n",
      "Epoch:  134 Loss:  0.3022239483892918 Total is:  640\n",
      "Epoch:  135 Loss:  0.2996827505528927 Total is:  640\n",
      "Epoch:  136 Loss:  0.29983107522130015 Total is:  640\n",
      "Epoch:  137 Loss:  0.29692370221018793 Total is:  640\n",
      "Epoch:  138 Loss:  0.2966402381658554 Total is:  640\n",
      "Epoch:  139 Loss:  0.3022044666111469 Total is:  640\n",
      "Epoch:  140 Loss:  0.30006416887044907 Total is:  640\n",
      "Epoch:  141 Loss:  0.2989132203161716 Total is:  640\n",
      "Epoch:  142 Loss:  0.2985814556479454 Total is:  640\n",
      "Epoch:  143 Loss:  0.2980701312422752 Total is:  640\n",
      "Epoch:  144 Loss:  0.2988679282367229 Total is:  640\n",
      "Epoch:  145 Loss:  0.2997774757444859 Total is:  640\n",
      "Epoch:  146 Loss:  0.3002522334456444 Total is:  640\n",
      "Epoch:  147 Loss:  0.29889133125543593 Total is:  640\n",
      "Epoch:  148 Loss:  0.29987640008330346 Total is:  640\n",
      "Epoch:  149 Loss:  0.29578950330615045 Total is:  640\n",
      "Epoch:  150 Loss:  0.29761131629347803 Total is:  640\n",
      "Epoch:  151 Loss:  0.29801083654165267 Total is:  640\n",
      "Epoch:  152 Loss:  0.29894297793507574 Total is:  640\n",
      "Epoch:  153 Loss:  0.2963105022907257 Total is:  640\n",
      "Epoch:  154 Loss:  0.29713050127029417 Total is:  640\n",
      "Epoch:  155 Loss:  0.2984215892851353 Total is:  640\n",
      "Epoch:  156 Loss:  0.2984676018357277 Total is:  640\n",
      "Epoch:  157 Loss:  0.29900170415639876 Total is:  640\n",
      "Epoch:  158 Loss:  0.2968719877302647 Total is:  640\n",
      "Epoch:  159 Loss:  0.2977841854095459 Total is:  640\n",
      "Epoch:  160 Loss:  0.29699412882328036 Total is:  640\n",
      "Epoch:  161 Loss:  0.2991328932344913 Total is:  640\n",
      "Epoch:  162 Loss:  0.29881780669093133 Total is:  640\n",
      "Epoch:  163 Loss:  0.29731684550642967 Total is:  640\n",
      "Epoch:  164 Loss:  0.2986788250505924 Total is:  640\n",
      "Epoch:  165 Loss:  0.29601467922329905 Total is:  640\n",
      "Epoch:  166 Loss:  0.29723934158682824 Total is:  640\n",
      "Epoch:  167 Loss:  0.295976060628891 Total is:  640\n",
      "Epoch:  168 Loss:  0.2983054772019386 Total is:  640\n",
      "Epoch:  169 Loss:  0.2993354298174381 Total is:  640\n",
      "Epoch:  170 Loss:  0.29895913451910017 Total is:  640\n",
      "Epoch:  171 Loss:  0.2985521286725998 Total is:  640\n",
      "Epoch:  172 Loss:  0.29648606702685354 Total is:  640\n",
      "Epoch:  173 Loss:  0.2946962833404541 Total is:  640\n",
      "Epoch:  174 Loss:  0.29646105170249937 Total is:  640\n",
      "Epoch:  175 Loss:  0.2958245076239109 Total is:  640\n",
      "Epoch:  176 Loss:  0.2998227007687092 Total is:  640\n",
      "Epoch:  177 Loss:  0.2965019464492798 Total is:  640\n",
      "Epoch:  178 Loss:  0.2979139178991318 Total is:  640\n",
      "Epoch:  179 Loss:  0.2966360583901405 Total is:  640\n",
      "Epoch:  180 Loss:  0.29523946940898893 Total is:  640\n",
      "Epoch:  181 Loss:  0.3013358272612095 Total is:  640\n",
      "Epoch:  182 Loss:  0.29604264423251153 Total is:  640\n",
      "Epoch:  183 Loss:  0.29691231101751325 Total is:  640\n",
      "Epoch:  184 Loss:  0.29720677360892295 Total is:  640\n",
      "Epoch:  185 Loss:  0.29509262889623644 Total is:  640\n",
      "Epoch:  186 Loss:  0.29691582843661307 Total is:  640\n",
      "Epoch:  187 Loss:  0.2967607915401459 Total is:  640\n",
      "Epoch:  188 Loss:  0.29541620537638663 Total is:  640\n",
      "Epoch:  189 Loss:  0.2948445282876492 Total is:  640\n",
      "Epoch:  190 Loss:  0.2957844913005829 Total is:  640\n",
      "Epoch:  191 Loss:  0.2942174904048443 Total is:  640\n",
      "Epoch:  192 Loss:  0.29481347277760506 Total is:  640\n",
      "Epoch:  193 Loss:  0.29565309882164004 Total is:  640\n",
      "Epoch:  194 Loss:  0.2945959821343422 Total is:  640\n",
      "Epoch:  195 Loss:  0.2954704135656357 Total is:  640\n",
      "Epoch:  196 Loss:  0.2945859931409359 Total is:  640\n",
      "Epoch:  197 Loss:  0.29575582295656205 Total is:  640\n",
      "Epoch:  198 Loss:  0.29537936523556707 Total is:  640\n",
      "Epoch:  199 Loss:  0.2967261828482151 Total is:  640\n",
      "Epoch:  200 Loss:  0.29634004309773443 Total is:  640\n",
      "Epoch:  201 Loss:  0.2964986823499203 Total is:  640\n",
      "Epoch:  202 Loss:  0.29927638471126555 Total is:  640\n",
      "Epoch:  203 Loss:  0.29568216353654864 Total is:  640\n",
      "Epoch:  204 Loss:  0.29766007959842683 Total is:  640\n",
      "Epoch:  205 Loss:  0.296667842566967 Total is:  640\n",
      "Epoch:  206 Loss:  0.2950491927564144 Total is:  640\n",
      "Epoch:  207 Loss:  0.29511058032512666 Total is:  640\n",
      "Epoch:  208 Loss:  0.29501027166843413 Total is:  640\n",
      "Epoch:  209 Loss:  0.2954319082200527 Total is:  640\n",
      "Epoch:  210 Loss:  0.295553108304739 Total is:  640\n",
      "Epoch:  211 Loss:  0.2960394904017448 Total is:  640\n",
      "Epoch:  212 Loss:  0.29727455973625183 Total is:  640\n",
      "Epoch:  213 Loss:  0.29630582854151727 Total is:  640\n",
      "Epoch:  214 Loss:  0.2964745074510574 Total is:  640\n",
      "Epoch:  215 Loss:  0.29546659588813784 Total is:  640\n",
      "Epoch:  216 Loss:  0.2956123597919941 Total is:  640\n",
      "Epoch:  217 Loss:  0.2952829100191593 Total is:  640\n",
      "Epoch:  218 Loss:  0.29604989737272264 Total is:  640\n",
      "Epoch:  219 Loss:  0.29691712707281115 Total is:  640\n",
      "Epoch:  220 Loss:  0.296526837348938 Total is:  640\n",
      "Epoch:  221 Loss:  0.29619576781988144 Total is:  640\n",
      "Epoch:  222 Loss:  0.2946219056844711 Total is:  640\n",
      "Epoch:  223 Loss:  0.2960245318710804 Total is:  640\n",
      "Epoch:  224 Loss:  0.29471001476049424 Total is:  640\n",
      "Epoch:  225 Loss:  0.29774452522397044 Total is:  640\n",
      "Epoch:  226 Loss:  0.29612488597631453 Total is:  640\n",
      "Epoch:  227 Loss:  0.2966992065310478 Total is:  640\n",
      "Epoch:  228 Loss:  0.296171136200428 Total is:  640\n",
      "Epoch:  229 Loss:  0.29757519289851186 Total is:  640\n",
      "Epoch:  230 Loss:  0.2963431991636753 Total is:  640\n",
      "Epoch:  231 Loss:  0.2966035768389702 Total is:  640\n",
      "Epoch:  232 Loss:  0.29716109335422514 Total is:  640\n",
      "Epoch:  233 Loss:  0.2956087291240692 Total is:  640\n",
      "Epoch:  234 Loss:  0.2969574950635433 Total is:  640\n",
      "Epoch:  235 Loss:  0.29688712283968927 Total is:  640\n",
      "Epoch:  236 Loss:  0.2960786983370781 Total is:  640\n",
      "Epoch:  237 Loss:  0.2985394887626171 Total is:  640\n",
      "Epoch:  238 Loss:  0.2964924991130829 Total is:  640\n",
      "Epoch:  239 Loss:  0.29600406885147096 Total is:  640\n",
      "Epoch:  240 Loss:  0.29684754833579063 Total is:  640\n",
      "Epoch:  241 Loss:  0.296190819889307 Total is:  640\n",
      "Epoch:  242 Loss:  0.2982845149934292 Total is:  640\n",
      "Epoch:  243 Loss:  0.2961076803505421 Total is:  640\n",
      "Epoch:  244 Loss:  0.2971691690385342 Total is:  640\n",
      "Epoch:  245 Loss:  0.2968340776860714 Total is:  640\n",
      "Epoch:  246 Loss:  0.2950634852051735 Total is:  640\n",
      "Epoch:  247 Loss:  0.29613194316625596 Total is:  640\n",
      "Epoch:  248 Loss:  0.2981242075562477 Total is:  640\n",
      "Epoch:  249 Loss:  0.2947321943938732 Total is:  640\n",
      "Epoch:  250 Loss:  0.29542602971196175 Total is:  640\n",
      "Epoch:  251 Loss:  0.2964054077863693 Total is:  640\n",
      "Epoch:  252 Loss:  0.2961776375770569 Total is:  640\n",
      "Epoch:  253 Loss:  0.2944879584014416 Total is:  640\n",
      "Epoch:  254 Loss:  0.2957396313548088 Total is:  640\n",
      "Epoch:  255 Loss:  0.2976141072809696 Total is:  640\n",
      "Epoch:  256 Loss:  0.29795931056141856 Total is:  640\n",
      "Epoch:  257 Loss:  0.2967395715415478 Total is:  640\n",
      "Epoch:  258 Loss:  0.2950863778591156 Total is:  640\n",
      "Epoch:  259 Loss:  0.295884408056736 Total is:  640\n",
      "Epoch:  260 Loss:  0.29704600647091867 Total is:  640\n",
      "Epoch:  261 Loss:  0.293807190656662 Total is:  640\n",
      "Epoch:  262 Loss:  0.2949794292449951 Total is:  640\n",
      "Epoch:  263 Loss:  0.29331736266613007 Total is:  640\n",
      "Epoch:  264 Loss:  0.2951757274568081 Total is:  640\n",
      "Epoch:  265 Loss:  0.29722814485430715 Total is:  640\n",
      "Epoch:  266 Loss:  0.2957495614886284 Total is:  640\n",
      "Epoch:  267 Loss:  0.2960539884865284 Total is:  640\n",
      "Epoch:  268 Loss:  0.29455125629901885 Total is:  640\n",
      "Epoch:  269 Loss:  0.297127028554678 Total is:  640\n",
      "Epoch:  270 Loss:  0.296295789629221 Total is:  640\n",
      "Epoch:  271 Loss:  0.2961367554962635 Total is:  640\n",
      "Epoch:  272 Loss:  0.2974246025085449 Total is:  640\n",
      "Epoch:  273 Loss:  0.29500230848789216 Total is:  640\n",
      "Epoch:  274 Loss:  0.29544027894735336 Total is:  640\n",
      "Epoch:  275 Loss:  0.2948753826320171 Total is:  640\n",
      "Epoch:  276 Loss:  0.2978616073727608 Total is:  640\n",
      "Epoch:  277 Loss:  0.2956091560423374 Total is:  640\n",
      "Epoch:  278 Loss:  0.29638302475214007 Total is:  640\n",
      "Epoch:  279 Loss:  0.29686498641967773 Total is:  640\n",
      "Epoch:  280 Loss:  0.29915074333548547 Total is:  640\n",
      "Epoch:  281 Loss:  0.29612082317471505 Total is:  640\n",
      "Epoch:  282 Loss:  0.2980169616639614 Total is:  640\n",
      "Epoch:  283 Loss:  0.2962312109768391 Total is:  640\n",
      "Epoch:  284 Loss:  0.29415936544537546 Total is:  640\n",
      "Epoch:  285 Loss:  0.29601369351148604 Total is:  640\n",
      "Epoch:  286 Loss:  0.2933843433856964 Total is:  640\n",
      "Epoch:  287 Loss:  0.2964214004576206 Total is:  640\n",
      "Epoch:  288 Loss:  0.2961502492427826 Total is:  640\n",
      "Epoch:  289 Loss:  0.2951191410422325 Total is:  640\n",
      "Epoch:  290 Loss:  0.29566563963890075 Total is:  640\n",
      "Epoch:  291 Loss:  0.29636852964758875 Total is:  640\n",
      "Epoch:  292 Loss:  0.2951759286224842 Total is:  640\n",
      "Epoch:  293 Loss:  0.29503621011972425 Total is:  640\n",
      "Epoch:  294 Loss:  0.2951266996562481 Total is:  640\n",
      "Epoch:  295 Loss:  0.2961141273379326 Total is:  640\n",
      "Epoch:  296 Loss:  0.29582369700074196 Total is:  640\n",
      "Epoch:  297 Loss:  0.2962093487381935 Total is:  640\n",
      "Epoch:  298 Loss:  0.295019393414259 Total is:  640\n",
      "Epoch:  299 Loss:  0.2946677029132843 Total is:  640\n",
      "Epoch:  300 Loss:  0.29574213102459906 Total is:  640\n",
      "Epoch:  301 Loss:  0.29573932811617853 Total is:  640\n",
      "Epoch:  302 Loss:  0.2947100102901459 Total is:  640\n",
      "Epoch:  303 Loss:  0.2954284451901913 Total is:  640\n",
      "Epoch:  304 Loss:  0.2971670962870121 Total is:  640\n",
      "Epoch:  305 Loss:  0.29395410865545274 Total is:  640\n",
      "Epoch:  306 Loss:  0.29573463648557663 Total is:  640\n",
      "Epoch:  307 Loss:  0.2952803120017052 Total is:  640\n",
      "Epoch:  308 Loss:  0.292863505333662 Total is:  640\n",
      "Epoch:  309 Loss:  0.29597431868314744 Total is:  640\n",
      "Epoch:  310 Loss:  0.29688903167843816 Total is:  640\n",
      "Epoch:  311 Loss:  0.29466028362512586 Total is:  640\n",
      "Epoch:  312 Loss:  0.2962844133377075 Total is:  640\n",
      "Epoch:  313 Loss:  0.2965805299580097 Total is:  640\n",
      "Epoch:  314 Loss:  0.2934418313205242 Total is:  640\n",
      "Epoch:  315 Loss:  0.2956121049821377 Total is:  640\n",
      "Epoch:  316 Loss:  0.29672589227557183 Total is:  640\n",
      "Epoch:  317 Loss:  0.29401621520519255 Total is:  640\n",
      "Epoch:  318 Loss:  0.2958306707441807 Total is:  640\n",
      "Epoch:  319 Loss:  0.2959115423262119 Total is:  640\n",
      "Epoch:  320 Loss:  0.29649663865566256 Total is:  640\n",
      "Epoch:  321 Loss:  0.2946887344121933 Total is:  640\n",
      "Epoch:  322 Loss:  0.295961520075798 Total is:  640\n",
      "Epoch:  323 Loss:  0.29607105553150176 Total is:  640\n",
      "Epoch:  324 Loss:  0.29519145041704176 Total is:  640\n",
      "Epoch:  325 Loss:  0.29493859261274336 Total is:  640\n",
      "Epoch:  326 Loss:  0.29399662390351294 Total is:  640\n",
      "Epoch:  327 Loss:  0.2961706884205341 Total is:  640\n",
      "Epoch:  328 Loss:  0.29710764810442924 Total is:  640\n",
      "Epoch:  329 Loss:  0.2973619967699051 Total is:  640\n",
      "Epoch:  330 Loss:  0.29585830941796304 Total is:  640\n",
      "Epoch:  331 Loss:  0.29454867392778394 Total is:  640\n",
      "Epoch:  332 Loss:  0.295990988612175 Total is:  640\n",
      "Epoch:  333 Loss:  0.29675391167402265 Total is:  640\n",
      "Epoch:  334 Loss:  0.29588907659053804 Total is:  640\n",
      "Epoch:  335 Loss:  0.2948225177824497 Total is:  640\n",
      "Epoch:  336 Loss:  0.29633077830076215 Total is:  640\n",
      "Epoch:  337 Loss:  0.29571927413344384 Total is:  640\n",
      "Epoch:  338 Loss:  0.29512106254696846 Total is:  640\n",
      "Epoch:  339 Loss:  0.2948231242597103 Total is:  640\n",
      "Epoch:  340 Loss:  0.2953325942158699 Total is:  640\n",
      "Epoch:  341 Loss:  0.29541289061307907 Total is:  640\n",
      "Epoch:  342 Loss:  0.2979959897696972 Total is:  640\n",
      "Epoch:  343 Loss:  0.29871552288532255 Total is:  640\n",
      "Epoch:  344 Loss:  0.29428040981292725 Total is:  640\n",
      "Epoch:  345 Loss:  0.2948453061282635 Total is:  640\n",
      "Epoch:  346 Loss:  0.29574151039123536 Total is:  640\n",
      "Epoch:  347 Loss:  0.2969931997358799 Total is:  640\n",
      "Epoch:  348 Loss:  0.2954327218234539 Total is:  640\n",
      "Epoch:  349 Loss:  0.29621418938040733 Total is:  640\n",
      "Epoch:  350 Loss:  0.29687846302986143 Total is:  640\n",
      "Epoch:  351 Loss:  0.2945717692375183 Total is:  640\n",
      "Epoch:  352 Loss:  0.2952836357057095 Total is:  640\n",
      "Epoch:  353 Loss:  0.295257481187582 Total is:  640\n",
      "Epoch:  354 Loss:  0.29553882852196695 Total is:  640\n",
      "Epoch:  355 Loss:  0.29515862464904785 Total is:  640\n",
      "Epoch:  356 Loss:  0.29639139249920843 Total is:  640\n",
      "Epoch:  357 Loss:  0.29490675702691077 Total is:  640\n",
      "Epoch:  358 Loss:  0.2962958082556725 Total is:  640\n",
      "Epoch:  359 Loss:  0.2954512000083923 Total is:  640\n",
      "Epoch:  360 Loss:  0.29641695916652677 Total is:  640\n",
      "Epoch:  361 Loss:  0.2963918909430504 Total is:  640\n",
      "Epoch:  362 Loss:  0.29500798508524895 Total is:  640\n",
      "Epoch:  363 Loss:  0.29699012637138367 Total is:  640\n",
      "Epoch:  364 Loss:  0.29408006817102433 Total is:  640\n",
      "Epoch:  365 Loss:  0.2953719414770603 Total is:  640\n",
      "Epoch:  366 Loss:  0.29602590575814247 Total is:  640\n",
      "Epoch:  367 Loss:  0.2946951128542423 Total is:  640\n",
      "Epoch:  368 Loss:  0.2969363935291767 Total is:  640\n",
      "Epoch:  369 Loss:  0.2956931211054325 Total is:  640\n",
      "Epoch:  370 Loss:  0.2961246773600578 Total is:  640\n",
      "Epoch:  371 Loss:  0.2971077002584934 Total is:  640\n",
      "Epoch:  372 Loss:  0.2955250218510628 Total is:  640\n",
      "Epoch:  373 Loss:  0.29736357256770135 Total is:  640\n",
      "Epoch:  374 Loss:  0.2944814167916775 Total is:  640\n",
      "Epoch:  375 Loss:  0.2941306814551353 Total is:  640\n",
      "Epoch:  376 Loss:  0.2975062794983387 Total is:  640\n",
      "Epoch:  377 Loss:  0.29708611965179443 Total is:  640\n",
      "Epoch:  378 Loss:  0.2945266433060169 Total is:  640\n",
      "Epoch:  379 Loss:  0.2967673324048519 Total is:  640\n",
      "Epoch:  380 Loss:  0.2962155550718307 Total is:  640\n",
      "Epoch:  381 Loss:  0.29687054827809334 Total is:  640\n",
      "Epoch:  382 Loss:  0.2960983611643314 Total is:  640\n",
      "Epoch:  383 Loss:  0.2969277113676071 Total is:  640\n",
      "Epoch:  384 Loss:  0.2944942943751812 Total is:  640\n",
      "Epoch:  385 Loss:  0.2982272461056709 Total is:  640\n",
      "Epoch:  386 Loss:  0.2967189967632294 Total is:  640\n",
      "Epoch:  387 Loss:  0.2965197265148163 Total is:  640\n",
      "Epoch:  388 Loss:  0.29765704423189165 Total is:  640\n",
      "Epoch:  389 Loss:  0.29546478018164635 Total is:  640\n",
      "Epoch:  390 Loss:  0.2954190164804459 Total is:  640\n",
      "Epoch:  391 Loss:  0.2953105941414833 Total is:  640\n",
      "Epoch:  392 Loss:  0.2957498013973236 Total is:  640\n",
      "Epoch:  393 Loss:  0.29538669511675836 Total is:  640\n",
      "Epoch:  394 Loss:  0.29688884913921354 Total is:  640\n",
      "Epoch:  395 Loss:  0.2955474086105824 Total is:  640\n",
      "Epoch:  396 Loss:  0.29654504731297493 Total is:  640\n",
      "Epoch:  397 Loss:  0.29574455246329306 Total is:  640\n",
      "Epoch:  398 Loss:  0.2978361062705517 Total is:  640\n",
      "Epoch:  399 Loss:  0.295755036175251 Total is:  640\n",
      "Epoch:  400 Loss:  0.2947129748761654 Total is:  640\n",
      "Epoch:  401 Loss:  0.2961303450167179 Total is:  640\n",
      "Epoch:  402 Loss:  0.2951629005372524 Total is:  640\n",
      "Epoch:  403 Loss:  0.2964151412248611 Total is:  640\n",
      "Epoch:  404 Loss:  0.29691545143723486 Total is:  640\n",
      "Epoch:  405 Loss:  0.297157534211874 Total is:  640\n",
      "Epoch:  406 Loss:  0.296522156894207 Total is:  640\n",
      "Epoch:  407 Loss:  0.2975415900349617 Total is:  640\n",
      "Epoch:  408 Loss:  0.2978784941136837 Total is:  640\n",
      "Epoch:  409 Loss:  0.2964275561273098 Total is:  640\n",
      "Epoch:  410 Loss:  0.2955492541193962 Total is:  640\n",
      "Epoch:  411 Loss:  0.2950752660632133 Total is:  640\n",
      "Epoch:  412 Loss:  0.2946638084948063 Total is:  640\n",
      "Epoch:  413 Loss:  0.29468924924731255 Total is:  640\n",
      "Epoch:  414 Loss:  0.2949173949658871 Total is:  640\n",
      "Epoch:  415 Loss:  0.2956696689128876 Total is:  640\n",
      "Epoch:  416 Loss:  0.2973874293267727 Total is:  640\n",
      "Epoch:  417 Loss:  0.2960623845458031 Total is:  640\n",
      "Epoch:  418 Loss:  0.2956968411803246 Total is:  640\n",
      "Epoch:  419 Loss:  0.29505018070340155 Total is:  640\n",
      "Epoch:  420 Loss:  0.2952406920492649 Total is:  640\n",
      "Epoch:  421 Loss:  0.29453850388526914 Total is:  640\n",
      "Epoch:  422 Loss:  0.2956731416285038 Total is:  640\n",
      "Epoch:  423 Loss:  0.2959990844130516 Total is:  640\n",
      "Epoch:  424 Loss:  0.2983718566596508 Total is:  640\n",
      "Epoch:  425 Loss:  0.2992594949901104 Total is:  640\n",
      "Epoch:  426 Loss:  0.29806642383337023 Total is:  640\n",
      "Epoch:  427 Loss:  0.29700631350278855 Total is:  640\n",
      "Epoch:  428 Loss:  0.2947968885302544 Total is:  640\n",
      "Epoch:  429 Loss:  0.296936397254467 Total is:  640\n",
      "Epoch:  430 Loss:  0.29565147757530214 Total is:  640\n",
      "Epoch:  431 Loss:  0.2944523073732853 Total is:  640\n",
      "Epoch:  432 Loss:  0.29666249379515647 Total is:  640\n",
      "Epoch:  433 Loss:  0.296834958344698 Total is:  640\n",
      "Epoch:  434 Loss:  0.2956711895763874 Total is:  640\n",
      "Epoch:  435 Loss:  0.29565280973911284 Total is:  640\n",
      "Epoch:  436 Loss:  0.2947156310081482 Total is:  640\n",
      "Epoch:  437 Loss:  0.2953535161912441 Total is:  640\n",
      "Epoch:  438 Loss:  0.29591489434242246 Total is:  640\n",
      "Epoch:  439 Loss:  0.2947345867753029 Total is:  640\n",
      "Epoch:  440 Loss:  0.29585232585668564 Total is:  640\n",
      "Epoch:  441 Loss:  0.2949957773089409 Total is:  640\n",
      "Epoch:  442 Loss:  0.29566752165555954 Total is:  640\n",
      "Epoch:  443 Loss:  0.2951517179608345 Total is:  640\n",
      "Epoch:  444 Loss:  0.29590253084897994 Total is:  640\n",
      "Epoch:  445 Loss:  0.2973278537392616 Total is:  640\n",
      "Epoch:  446 Loss:  0.297419947385788 Total is:  640\n",
      "Epoch:  447 Loss:  0.29654529467225077 Total is:  640\n",
      "Epoch:  448 Loss:  0.29501051902770997 Total is:  640\n",
      "Epoch:  449 Loss:  0.2947539120912552 Total is:  640\n",
      "Epoch:  450 Loss:  0.29465572610497476 Total is:  640\n",
      "Epoch:  451 Loss:  0.29495625719428065 Total is:  640\n",
      "Epoch:  452 Loss:  0.296761878579855 Total is:  640\n",
      "Epoch:  453 Loss:  0.29671713039278985 Total is:  640\n",
      "Epoch:  454 Loss:  0.29620145484805105 Total is:  640\n",
      "Epoch:  455 Loss:  0.29660899713635447 Total is:  640\n",
      "Epoch:  456 Loss:  0.2943531356751919 Total is:  640\n",
      "Epoch:  457 Loss:  0.29753743931651117 Total is:  640\n",
      "Epoch:  458 Loss:  0.2958109088242054 Total is:  640\n",
      "Epoch:  459 Loss:  0.2967670999467373 Total is:  640\n",
      "Epoch:  460 Loss:  0.29774114713072775 Total is:  640\n",
      "Epoch:  461 Loss:  0.29536323100328443 Total is:  640\n",
      "Epoch:  462 Loss:  0.29456360936164855 Total is:  640\n",
      "Epoch:  463 Loss:  0.29583929926157 Total is:  640\n",
      "Epoch:  464 Loss:  0.2962223067879677 Total is:  640\n",
      "Epoch:  465 Loss:  0.2969643160700798 Total is:  640\n",
      "Epoch:  466 Loss:  0.29650993943214415 Total is:  640\n",
      "Epoch:  467 Loss:  0.29399448484182356 Total is:  640\n",
      "Epoch:  468 Loss:  0.29575658291578294 Total is:  640\n",
      "Epoch:  469 Loss:  0.2966239102184772 Total is:  640\n",
      "Epoch:  470 Loss:  0.2962133057415485 Total is:  640\n",
      "Epoch:  471 Loss:  0.2962446391582489 Total is:  640\n",
      "Epoch:  472 Loss:  0.2952760837972164 Total is:  640\n",
      "Epoch:  473 Loss:  0.2943547159433365 Total is:  640\n",
      "Epoch:  474 Loss:  0.29618316888809204 Total is:  640\n",
      "Epoch:  475 Loss:  0.29751583337783816 Total is:  640\n",
      "Epoch:  476 Loss:  0.2944379232823849 Total is:  640\n",
      "Epoch:  477 Loss:  0.2956779144704342 Total is:  640\n",
      "Epoch:  478 Loss:  0.2969255268573761 Total is:  640\n",
      "Epoch:  479 Loss:  0.2970885753631592 Total is:  640\n",
      "Epoch:  480 Loss:  0.29631049260497094 Total is:  640\n",
      "Epoch:  481 Loss:  0.29428436160087584 Total is:  640\n",
      "Epoch:  482 Loss:  0.2948613204061985 Total is:  640\n",
      "Epoch:  483 Loss:  0.294527193903923 Total is:  640\n",
      "Epoch:  484 Loss:  0.2955999091267586 Total is:  640\n",
      "Epoch:  485 Loss:  0.2967284046113491 Total is:  640\n",
      "Epoch:  486 Loss:  0.29579914808273317 Total is:  640\n",
      "Epoch:  487 Loss:  0.2964719571173191 Total is:  640\n",
      "Epoch:  488 Loss:  0.29695007801055906 Total is:  640\n",
      "Epoch:  489 Loss:  0.2959683179855347 Total is:  640\n",
      "Epoch:  490 Loss:  0.2953178085386753 Total is:  640\n",
      "Epoch:  491 Loss:  0.29646586179733275 Total is:  640\n",
      "Epoch:  492 Loss:  0.2966067038476467 Total is:  640\n",
      "Epoch:  493 Loss:  0.2947066992521286 Total is:  640\n",
      "Epoch:  494 Loss:  0.2946690276265144 Total is:  640\n",
      "Epoch:  495 Loss:  0.2954339861869812 Total is:  640\n",
      "Epoch:  496 Loss:  0.29335002452135084 Total is:  640\n",
      "Epoch:  497 Loss:  0.2951443552970886 Total is:  640\n",
      "Epoch:  498 Loss:  0.295596431940794 Total is:  640\n",
      "=>> Saving check_point...\n",
      "Epoch:  499 Loss:  0.2950491882860661 Total is:  640\n"
     ]
    },
    {
     "data": {
      "image/png": "[encoded data removed]",
      "text/plain": [
       "<Figure size 640x480 with 1 Axes>"
      ]
     },
     "metadata": {},
     "output_type": "display_data"
    }
   ],
   "source": [
    "model_dict = train_test_loop(model=fusion_model, train_loader=train_loader, test_loader=test_loader, loss=loss, epochs=500, check_point='ConvRNN_Model')\n",
    "plot_values(model_dict)"
   ]
  },
  {
   "cell_type": "code",
   "execution_count": null,
   "metadata": {},
   "outputs": [],
   "source": []
  }
 ],
 "metadata": {
  "kernelspec": {
   "display_name": "tensor_env_torch",
   "language": "python",
   "name": "python3"
  },
  "language_info": {
   "codemirror_mode": {
    "name": "ipython",
    "version": 3
   },
   "file_extension": ".py",
   "mimetype": "text/x-python",
   "name": "python",
   "nbconvert_exporter": "python",
   "pygments_lexer": "ipython3",
   "version": "3.11.4"
  }
 },
 "nbformat": 4,
 "nbformat_minor": 2
}
