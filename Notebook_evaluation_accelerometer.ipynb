{
 "cells": [
  {
   "attachments": {},
   "cell_type": "markdown",
   "metadata": {},
   "source": [
    "## **Multi Modal Self-Supervised Fusion**\n",
    "**- Fine tuning the MMFusion model (ConvRNN_Model.pth)**"
   ]
  },
  {
   "cell_type": "code",
   "execution_count": 1,
   "metadata": {},
   "outputs": [],
   "source": [
    "import numpy as np\n",
    "import os \n",
    "from pathlib import Path\n",
    "from tqdm import tqdm\n",
    "from sklearn.model_selection import train_test_split\n",
    "\n",
    "from sklearn.metrics import roc_curve, auc, confusion_matrix, ConfusionMatrixDisplay\n",
    "import torchmetrics\n",
    "import random\n",
    "import torch\n",
    "import tensorflow as tf\n",
    "import torchvision.transforms as transforms\n",
    "import torch.nn as nn\n",
    "from torch.utils.data import Dataset, DataLoader\n",
    "import torch.optim as optim\n",
    "\n",
    "from sources import utils_spec, models,MMFusion_Model\n",
    "import matplotlib.pyplot as plt"
   ]
  },
  {
   "cell_type": "markdown",
   "metadata": {},
   "source": [
    "### **A) Define the touchgesture model:**"
   ]
  },
  {
   "cell_type": "code",
   "execution_count": 2,
   "metadata": {},
   "outputs": [],
   "source": [
    "device = torch.device('cuda' if torch.cuda.is_available() else 'cpu')\n",
    "touchModel = MMFusion_Model.TouchGestureModel(input_size=4, hidden_size=256, seq_length=1250, num_layers=2, batch_size=16, num_classes=100).to(device)"
   ]
  },
  {
   "cell_type": "markdown",
   "metadata": {},
   "source": [
    "### **B) Define the spectrogram model:**"
   ]
  },
  {
   "cell_type": "code",
   "execution_count": 3,
   "metadata": {},
   "outputs": [],
   "source": [
    "specModel = MMFusion_Model.SpectrogramModel(num_classes=100).to(device)"
   ]
  },
  {
   "cell_type": "code",
   "execution_count": 4,
   "metadata": {},
   "outputs": [],
   "source": [
    "def testSpec(model, input):\n",
    "    x = input.to(device)\n",
    "    y0 = model(x)\n",
    "    print(\"Output shape of spectrogram model: \\n\", y0.shape)\n",
    "    print(y0)\n",
    "    return y0\n",
    "\n",
    "def testTouch(model, in_planes):\n",
    "    x = torch.randn(16, in_planes, 1250)\n",
    "    x = x.to(device)\n",
    "    y0 = model(x)\n",
    "    print(\"output shape of touch model: \\n\", y0.shape)\n",
    "    print(y0)\n",
    "    return y0"
   ]
  },
  {
   "cell_type": "code",
   "execution_count": 5,
   "metadata": {},
   "outputs": [
    {
     "name": "stdout",
     "output_type": "stream",
     "text": [
      "Output shape of spectrogram model: \n",
      " torch.Size([16, 256])\n",
      "tensor([[ 0.6819, -0.0512,  0.1953,  ..., -0.3903, -0.0924, -0.4498],\n",
      "        [ 0.4018, -0.0361, -0.4273,  ..., -0.2998, -0.3999,  0.2442],\n",
      "        [-0.6432, -0.6155, -0.3044,  ...,  0.1008, -0.2851,  0.4276],\n",
      "        ...,\n",
      "        [-0.2132,  0.5525,  0.1639,  ..., -0.3541, -0.6319, -0.5407],\n",
      "        [ 0.0925, -0.2507,  0.3709,  ...,  0.3511, -0.5716,  0.1970],\n",
      "        [-0.0789,  0.0521,  0.1165,  ...,  0.0047, -0.0808, -0.0916]],\n",
      "       device='cuda:0', grad_fn=<AddmmBackward0>)\n",
      "output shape of touch model: \n",
      " torch.Size([16, 256])\n",
      "tensor([[ 0.0402,  0.0675, -0.5002,  ...,  0.5387, -0.3509,  0.2728],\n",
      "        [-0.5153,  0.3145, -0.4745,  ..., -0.5409,  0.2191, -0.3210],\n",
      "        [ 0.1369, -0.0533,  0.2283,  ...,  0.4108,  0.2114,  0.1323],\n",
      "        ...,\n",
      "        [-0.1731,  0.3133,  0.0318,  ...,  0.3319,  0.2089,  0.1759],\n",
      "        [-0.5046,  0.5396,  0.3244,  ..., -0.1654, -0.6807,  0.7575],\n",
      "        [ 0.1612,  0.1104,  0.1258,  ..., -0.4481, -0.2103, -0.7561]],\n",
      "       device='cuda:0', grad_fn=<SliceBackward0>)\n"
     ]
    }
   ],
   "source": [
    "x_spec = torch.randn(16, 3, 65, 71)\n",
    "y_spec = testSpec(specModel, input = x_spec)\n",
    "y_touch = testTouch(touchModel, in_planes=4)"
   ]
  },
  {
   "cell_type": "code",
   "execution_count": 6,
   "metadata": {},
   "outputs": [
    {
     "name": "stdout",
     "output_type": "stream",
     "text": [
      "userID 0\n"
     ]
    },
    {
     "name": "stderr",
     "output_type": "stream",
     "text": [
      "100%|██████████| 12/12 [00:08<00:00,  1.45it/s]\n"
     ]
    },
    {
     "name": "stdout",
     "output_type": "stream",
     "text": [
      "userID 1\n"
     ]
    },
    {
     "name": "stderr",
     "output_type": "stream",
     "text": [
      "100%|██████████| 12/12 [00:07<00:00,  1.69it/s]"
     ]
    },
    {
     "name": "stdout",
     "output_type": "stream",
     "text": [
      "(24, 10000, 3)\n",
      "(24, 10000, 4)\n",
      "(24,)\n"
     ]
    },
    {
     "name": "stderr",
     "output_type": "stream",
     "text": [
      "\n"
     ]
    }
   ],
   "source": [
    "Logs, touch_ds, y = utils_spec.dataGenerator(numUsers=1, evaluation=True, pretraining=False)"
   ]
  },
  {
   "cell_type": "markdown",
   "metadata": {},
   "source": [
    "### Shape of Logs: (2, 10000, 3), because I have computed the norm for each sensor before loading them"
   ]
  },
  {
   "cell_type": "code",
   "execution_count": 7,
   "metadata": {},
   "outputs": [
    {
     "name": "stdout",
     "output_type": "stream",
     "text": [
      "(192, 1250, 3)\n",
      "(192,)\n"
     ]
    }
   ],
   "source": [
    "numof_chunks = 8 # divide data on multu chunks (numof_chunks = 1 -> process the hole csv file)\n",
    "\n",
    "Logs_2 = Logs.reshape(Logs.shape[0] * numof_chunks, Logs.shape[1]//numof_chunks, -1)\n",
    "\n",
    "y_labels = []\n",
    "\n",
    "for y0 in y:\n",
    "    y_labels.append(np.zeros(numof_chunks) + y0)\n",
    "\n",
    "y_labels = np.reshape(y_labels, -1)\n",
    "\n",
    "print(Logs_2.shape)\n",
    "print(y_labels.shape)"
   ]
  },
  {
   "cell_type": "code",
   "execution_count": 8,
   "metadata": {},
   "outputs": [
    {
     "name": "stdout",
     "output_type": "stream",
     "text": [
      "(192, 1250, 4)\n"
     ]
    }
   ],
   "source": [
    "touch_logs = touch_ds.reshape(touch_ds.shape[0]*numof_chunks, touch_ds.shape[1]//numof_chunks, -1)\n",
    "print(touch_logs.shape)"
   ]
  },
  {
   "cell_type": "code",
   "execution_count": 9,
   "metadata": {},
   "outputs": [
    {
     "name": "stdout",
     "output_type": "stream",
     "text": [
      "(192, 3, 1250)\n"
     ]
    },
    {
     "name": "stderr",
     "output_type": "stream",
     "text": [
      "100%|██████████| 192/192 [00:01<00:00, 154.98it/s]"
     ]
    },
    {
     "name": "stdout",
     "output_type": "stream",
     "text": [
      "(192, 65, 71, 3)\n"
     ]
    },
    {
     "name": "stderr",
     "output_type": "stream",
     "text": [
      "\n"
     ]
    }
   ],
   "source": [
    "x_spec = []\n",
    "y_spec = []\n",
    "\n",
    "#transpose data, fourier transform is applied on horizontal data\n",
    "X = np.transpose(Logs_2, axes = [0, -1, 1])\n",
    "print(X.shape)\n",
    "\n",
    "for i, x in enumerate(tqdm(X)):\n",
    "    x = abs(tf.signal.stft(x, 128, 16))\n",
    "    x_spec.append(x)#, window_fn=window_fn))\n",
    "    \n",
    "x_spec = np.stack(x_spec)\n",
    "\n",
    "#put the number of channels in the last axe to have the same data format supported by TensorFlow (9 channels) \n",
    "x_spec = np.transpose(x_spec, axes = [0, 3, 2, 1])\n",
    "# config originale: [0, 3, 2, 1]\n",
    "\n",
    "print(x_spec.shape)\n"
   ]
  },
  {
   "cell_type": "code",
   "execution_count": 10,
   "metadata": {},
   "outputs": [],
   "source": [
    "sensorFusion = MMFusion_Model.fusionFFN(num_logits=256).to(device)\n",
    "touchFusion = MMFusion_Model.fusionFFN(num_logits=256).to(device)\n",
    "\n",
    "finetuned_fusion_model = MMFusion_Model.pred_model(sensorModelPred=specModel, touchModelPred=touchModel, sensorFusionPred=sensorFusion, touchFusionPred=touchFusion, fusion=True).to(device)"
   ]
  },
  {
   "cell_type": "code",
   "execution_count": 11,
   "metadata": {},
   "outputs": [],
   "source": [
    "def test_fusion_pred():\n",
    "    x1 = torch.randn(16, 3, 65, 71).to(device)\n",
    "    x2 = torch.randn(16,4, 1250).to(device)\n",
    "    y_i, y_j, y_fi, y_fj = finetuned_fusion_model(x1, x2)\n",
    "    return y_i, y_j, y_fi, y_fj\n",
    "\n",
    "y0, y1, y2, y3 =test_fusion_pred()"
   ]
  },
  {
   "cell_type": "code",
   "execution_count": 12,
   "metadata": {},
   "outputs": [
    {
     "name": "stdout",
     "output_type": "stream",
     "text": [
      "torch.Size([16, 256])\n",
      "torch.Size([16, 256])\n",
      "torch.Size([16, 256])\n",
      "torch.Size([16, 256])\n"
     ]
    }
   ],
   "source": [
    "print(y0.shape)\n",
    "print(y1.shape)\n",
    "print(y2.shape)\n",
    "print(y3.shape)"
   ]
  },
  {
   "cell_type": "code",
   "execution_count": 13,
   "metadata": {},
   "outputs": [],
   "source": [
    "x_train_sensor, x_test_sensor, y_train_sensor, y_test_sensor = train_test_split(x_spec, y_labels, test_size=0.8, shuffle=False, random_state=10)\n",
    "x_train_touch, x_test_touch, y_train_touch, y_test_touch = train_test_split(touch_logs, y_labels, test_size=0.8, shuffle=False, random_state=10)"
   ]
  },
  {
   "cell_type": "markdown",
   "metadata": {},
   "source": [
    "### **Dataset:**"
   ]
  },
  {
   "cell_type": "code",
   "execution_count": 14,
   "metadata": {},
   "outputs": [],
   "source": [
    "class customDataset(Dataset):\n",
    "    def __init__(self, sensorData, touchData, Y, transform=None):\n",
    "        self.sensorData = np.array(sensorData)\n",
    "        self.touchData = np.array(touchData)\n",
    "\n",
    "        self.labels = np.array(Y)\n",
    "        self.transform = transform\n",
    "\n",
    "    def __getitem__(self, i):\n",
    "        \n",
    "        X_i = self.sensorData[i]\n",
    "        X_j = self.touchData[i]\n",
    "\n",
    "        X_i = self.transform(X_i)\n",
    "        X_j = self.transform(X_j)\n",
    "\n",
    "        y = self.labels[i]\n",
    "\n",
    "        return (X_i, X_j, y)\n",
    "    \n",
    "    def __len__(self):\n",
    "        return len(self.touchData)"
   ]
  },
  {
   "cell_type": "code",
   "execution_count": 15,
   "metadata": {},
   "outputs": [],
   "source": [
    "device = torch.device('cuda:0' if torch.cuda.is_available() else 'cpu')\n",
    "transform = transforms.Compose([transforms.ToTensor()])\n",
    "train_set = customDataset(sensorData=x_train_sensor, touchData=x_train_touch, Y=y_train_sensor, transform=transform)\n",
    "test_set = customDataset(sensorData=x_test_sensor, touchData=x_test_touch, Y=y_test_sensor,transform=transform)"
   ]
  },
  {
   "cell_type": "code",
   "execution_count": 16,
   "metadata": {},
   "outputs": [],
   "source": [
    "train_loader = DataLoader(train_set, batch_size=16, shuffle=False, drop_last=True)\n",
    "test_loader = DataLoader(test_set, batch_size=16, drop_last=True)"
   ]
  },
  {
   "attachments": {},
   "cell_type": "markdown",
   "metadata": {},
   "source": [
    "##### **Display the data from train and test loaders**"
   ]
  },
  {
   "cell_type": "code",
   "execution_count": 17,
   "metadata": {},
   "outputs": [
    {
     "name": "stdout",
     "output_type": "stream",
     "text": [
      "Train Sample:  0\n",
      "X1 shape:torch.Size([16, 3, 65, 71])\n",
      "X2 Shape:torch.Size([16, 1250, 4])\n",
      "Shape of labels:torch.Size([16])\n"
     ]
    }
   ],
   "source": [
    "for i ,(x1,x2, y)  in enumerate(train_loader):\n",
    "    x1 = np.squeeze(x1, axis=1)\n",
    "    x2 = np.squeeze(x2, axis=1)\n",
    "    print(\"Train Sample: \", i)\n",
    "    print(\"X1 shape:{}\".format(x1.shape))\n",
    "    print(\"X2 Shape:{}\".format(x2.shape))\n",
    "    print(\"Shape of labels:{}\".format(y.shape))\n",
    "    break"
   ]
  },
  {
   "cell_type": "code",
   "execution_count": 18,
   "metadata": {},
   "outputs": [
    {
     "name": "stdout",
     "output_type": "stream",
     "text": [
      "Train Sample:  0\n",
      "X1 shape:torch.Size([16, 3, 65, 71])\n",
      "X2 Shape:torch.Size([16, 1250, 4])\n",
      "Shape of labels:torch.Size([16])\n"
     ]
    }
   ],
   "source": [
    "for i ,(x1,x2, y)  in enumerate(test_loader):\n",
    "    x1 = np.squeeze(x1, axis=1)\n",
    "    x2 = np.squeeze(x2, axis=1)\n",
    "    print(\"Train Sample: \", i)\n",
    "    print(\"X1 shape:{}\".format(x1.shape))\n",
    "    print(\"X2 Shape:{}\".format(x2.shape))\n",
    "    print(\"Shape of labels:{}\".format(y.shape))\n",
    "    break"
   ]
  },
  {
   "cell_type": "markdown",
   "metadata": {},
   "source": [
    "### **D) Load the finetuned ConvRNN model:**"
   ]
  },
  {
   "cell_type": "code",
   "execution_count": 19,
   "metadata": {},
   "outputs": [],
   "source": [
    "finetuned_path = 'finetuned_models/fusion/'\n",
    "finetuned_file_name = 'ConvRNN_finetuned_TF_accelerometer.pth'\n",
    "path_folder = os.path.join(finetuned_path, finetuned_file_name)\n",
    "ft_model = models.downstream_model.DSModel_Fusion(finetuned_fusion_model, num_classes=1, fusion=True).to(device)\n",
    "x = ft_model.load_state_dict(torch.load(path_folder, map_location=device), strict=False)"
   ]
  },
  {
   "cell_type": "code",
   "execution_count": 20,
   "metadata": {},
   "outputs": [
    {
     "data": {
      "text/plain": [
       "<All keys matched successfully>"
      ]
     },
     "execution_count": 20,
     "metadata": {},
     "output_type": "execute_result"
    }
   ],
   "source": [
    "x"
   ]
  },
  {
   "cell_type": "markdown",
   "metadata": {},
   "source": [
    "### **E) Run the model (ConvRNN) on train and test data as a feature extractor:**"
   ]
  },
  {
   "cell_type": "code",
   "execution_count": 21,
   "metadata": {},
   "outputs": [],
   "source": [
    "train_target = []\n",
    "train_embedding = []\n",
    "\n",
    "test_target = []\n",
    "test_embedding = []\n",
    "probas_train = []\n",
    "probas_test = []\n",
    "predicted_target = []\n",
    "\n",
    "ft_model.eval()\n",
    "\n",
    "for i, (x1, x2, y) in enumerate(train_loader):\n",
    "    train_labels = y.clone().detach()\n",
    "    x_i, x_j = x1.to(device, dtype=torch.int64), x2.to(device, dtype=torch.int64)\n",
    "    train_labels = train_labels.to(device, dtype=torch.int64)\n",
    "\n",
    "    x_i = x_i.float()\n",
    "    x_j = x_j.float()\n",
    "    #train_labels.squeeze(1)\n",
    "\n",
    "    train_scores, embedding = ft_model(x_i, x_j)\n",
    "\n",
    "    train_embedding.extend(embedding.detach().cpu())\n",
    "    train_target.extend(train_labels.cpu().tolist())\n",
    "    probas_train.extend(train_scores.detach().cpu().tolist())\n",
    "    #train_target.extend(train_labels.squeeze(-1).numpy())\n",
    "\n",
    "for i, (x1, x2, y) in enumerate(test_loader):\n",
    "\n",
    "    test_labels = y.clone().detach()\n",
    "    x_i, x_j = x1.to(device, dtype=torch.int64), x2.to(device, dtype=torch.int64)\n",
    "    test_labels = test_labels.to(device, dtype=torch.int64)\n",
    "\n",
    "    x_i = x_i.float()\n",
    "    x_j = x_j.float()\n",
    "    #test_labels.squeeze(1)\n",
    "\n",
    "    test_scores, embedding = ft_model(x_i, x_j)\n",
    "    p_target = (test_scores > 0.5).long()\n",
    "    \n",
    "    predicted_target.extend(p_target.detach().cpu().tolist())\n",
    "\n",
    "    test_embedding.extend(embedding.detach().cpu())\n",
    "    \n",
    "    test_target.extend(test_labels.detach().cpu().tolist())\n",
    "   \n",
    "    probas_test.extend(test_scores.detach().cpu().tolist())"
   ]
  },
  {
   "cell_type": "code",
   "execution_count": 22,
   "metadata": {},
   "outputs": [],
   "source": [
    "train_embedding = np.vstack(train_embedding)\n",
    "train_target = np.array(train_target)\n",
    "\n",
    "test_embedding = np.vstack(test_embedding)\n",
    "test_target = np.array(test_target)\n",
    "\n",
    "probas_train = np.array(probas_train)\n",
    "probas_test = np.array(probas_test)"
   ]
  },
  {
   "cell_type": "code",
   "execution_count": 23,
   "metadata": {},
   "outputs": [],
   "source": [
    "predicted_target = np.array(predicted_target).squeeze()"
   ]
  },
  {
   "cell_type": "code",
   "execution_count": 24,
   "metadata": {},
   "outputs": [
    {
     "data": {
      "text/plain": [
       "numpy.ndarray"
      ]
     },
     "execution_count": 24,
     "metadata": {},
     "output_type": "execute_result"
    }
   ],
   "source": [
    "type(probas_test)"
   ]
  },
  {
   "cell_type": "code",
   "execution_count": 25,
   "metadata": {},
   "outputs": [],
   "source": [
    "probas_train = (probas_train - probas_train.mean())/probas_train.std()"
   ]
  },
  {
   "cell_type": "code",
   "execution_count": 26,
   "metadata": {},
   "outputs": [
    {
     "data": {
      "text/plain": [
       "array([[-0.23482505],\n",
       "       [-0.25834121],\n",
       "       [-0.26318673],\n",
       "       [-0.22427642],\n",
       "       [-0.24488665],\n",
       "       [-0.24664445],\n",
       "       [-0.23491203],\n",
       "       [-0.19376091],\n",
       "       [-0.26383696],\n",
       "       [-0.25396875],\n",
       "       [-0.24820923],\n",
       "       [-0.25728911],\n",
       "       [-0.24958109],\n",
       "       [-0.25162185],\n",
       "       [-0.25009214],\n",
       "       [-0.25992756],\n",
       "       [-0.25215257],\n",
       "       [ 0.11634477],\n",
       "       [-0.08856983],\n",
       "       [-0.10719819],\n",
       "       [-0.13360446],\n",
       "       [-0.15804396],\n",
       "       [-0.14294834],\n",
       "       [-0.0583008 ],\n",
       "       [-0.20830584],\n",
       "       [-0.249429  ],\n",
       "       [ 5.50731941],\n",
       "       [-0.23297143],\n",
       "       [ 0.51287569],\n",
       "       [-0.18376179],\n",
       "       [-0.15715822],\n",
       "       [-0.2287353 ]])"
      ]
     },
     "execution_count": 26,
     "metadata": {},
     "output_type": "execute_result"
    }
   ],
   "source": [
    "probas_train"
   ]
  },
  {
   "cell_type": "code",
   "execution_count": 27,
   "metadata": {},
   "outputs": [],
   "source": [
    "probas_test = (probas_test - probas_test.mean())/probas_test.std()"
   ]
  },
  {
   "cell_type": "code",
   "execution_count": 28,
   "metadata": {},
   "outputs": [
    {
     "data": {
      "text/plain": [
       "(144,)"
      ]
     },
     "execution_count": 28,
     "metadata": {},
     "output_type": "execute_result"
    }
   ],
   "source": [
    "probas_test.ravel().shape"
   ]
  },
  {
   "cell_type": "markdown",
   "metadata": {},
   "source": [
    "### **F) Plot the ROC obtained with the linear classifier:**"
   ]
  },
  {
   "cell_type": "code",
   "execution_count": 29,
   "metadata": {},
   "outputs": [],
   "source": [
    "ROC = torchmetrics.ROC(task='binary')"
   ]
  },
  {
   "cell_type": "code",
   "execution_count": 30,
   "metadata": {},
   "outputs": [],
   "source": [
    "fpr_nn, tpr_nn, th_nn = ROC(torch.tensor(probas_test.ravel()), torch.tensor(test_target))"
   ]
  },
  {
   "cell_type": "code",
   "execution_count": 31,
   "metadata": {},
   "outputs": [
    {
     "data": {
      "text/plain": [
       "[<matplotlib.lines.Line2D at 0x140dfcf4110>]"
      ]
     },
     "execution_count": 31,
     "metadata": {},
     "output_type": "execute_result"
    },
    {
     "data": {
      "image/png": "[encoded data removed]",
      "text/plain": [
       "<Figure size 640x480 with 1 Axes>"
      ]
     },
     "metadata": {},
     "output_type": "display_data"
    }
   ],
   "source": [
    "plt.plot(fpr_nn, tpr_nn)"
   ]
  },
  {
   "cell_type": "code",
   "execution_count": 32,
   "metadata": {},
   "outputs": [
    {
     "data": {
      "text/plain": [
       "99.39855933189392"
      ]
     },
     "execution_count": 32,
     "metadata": {},
     "output_type": "execute_result"
    }
   ],
   "source": [
    "auc_model = auc(fpr_nn, tpr_nn)\n",
    "auc_model*100"
   ]
  },
  {
   "cell_type": "code",
   "execution_count": 47,
   "metadata": {},
   "outputs": [
    {
     "name": "stdout",
     "output_type": "stream",
     "text": [
      "Average AUC:  99.602\n",
      "Variance:  0.09967948635501567\n"
     ]
    }
   ],
   "source": [
    "auc_list = [99.71, 99.53, 99.57, 99.77, 99.59, 99.67, 99.55, 99.63, 99.61, 99.39]\n",
    "\n",
    "auc_array = np.array(auc_list)\n",
    "avg_auc = np.mean(auc_array)\n",
    "std_auc = np.std(auc_array)\n",
    "print(\"Average AUC: \", avg_auc)\n",
    "print(\"Variance: \", std_auc)"
   ]
  },
  {
   "cell_type": "code",
   "execution_count": 33,
   "metadata": {},
   "outputs": [
    {
     "data": {
      "text/plain": [
       "tensor(1.7241)"
      ]
     },
     "execution_count": 33,
     "metadata": {},
     "output_type": "execute_result"
    }
   ],
   "source": [
    "eer_nn = fpr_nn[np.nanargmin(np.absolute((1 - tpr_nn) - fpr_nn))]\n",
    "eer_nn*100"
   ]
  },
  {
   "cell_type": "code",
   "execution_count": 46,
   "metadata": {},
   "outputs": [
    {
     "name": "stdout",
     "output_type": "stream",
     "text": [
      "Average EER:  2.408\n",
      "Variance:  0.8426244715174133\n"
     ]
    }
   ],
   "source": [
    "eer_list = [1.72, 3.44, 3.44, 1.72, 1.72, 1.72, 3.44, 3.44, 1.72, 1.72]\n",
    "\n",
    "eer_array = np.array(eer_list)\n",
    "avg_eer = np.mean(eer_array)\n",
    "std_eer = np.std(eer_array)\n",
    "\n",
    "print(\"Average EER: \", avg_eer)\n",
    "print(\"Variance: \", std_eer)"
   ]
  },
  {
   "cell_type": "code",
   "execution_count": 34,
   "metadata": {},
   "outputs": [],
   "source": [
    "cm = confusion_matrix(test_target, predicted_target)"
   ]
  },
  {
   "cell_type": "code",
   "execution_count": 35,
   "metadata": {},
   "outputs": [],
   "source": [
    "cm_display = ConfusionMatrixDisplay(confusion_matrix=cm, display_labels=[False, True])"
   ]
  },
  {
   "cell_type": "code",
   "execution_count": 36,
   "metadata": {},
   "outputs": [
    {
     "data": {
      "text/plain": [
       "<sklearn.metrics._plot.confusion_matrix.ConfusionMatrixDisplay at 0x14025840f90>"
      ]
     },
     "execution_count": 36,
     "metadata": {},
     "output_type": "execute_result"
    },
    {
     "data": {
      "image/png": "[encoded data removed]",
      "text/plain": [
       "<Figure size 640x480 with 2 Axes>"
      ]
     },
     "metadata": {},
     "output_type": "display_data"
    }
   ],
   "source": [
    "cm_display.plot()"
   ]
  },
  {
   "cell_type": "code",
   "execution_count": 37,
   "metadata": {},
   "outputs": [
    {
     "data": {
      "text/plain": [
       "98.83720930232558"
      ]
     },
     "execution_count": 37,
     "metadata": {},
     "output_type": "execute_result"
    }
   ],
   "source": [
    "Recall = cm[1][1] / (cm[1][1] + cm[1][0])\n",
    "Recall * 100"
   ]
  },
  {
   "cell_type": "code",
   "execution_count": 45,
   "metadata": {},
   "outputs": [
    {
     "name": "stdout",
     "output_type": "stream",
     "text": [
      "Average Recall:  98.482\n",
      "Variance:  0.5315787806148758\n"
     ]
    }
   ],
   "source": [
    "recall_list = [98.83, 97.67, 98.83, 98.83, 98.83, 98.83, 97.67, 98.83, 97.67, 98.83]\n",
    "recall_array = np.array(recall_list)\n",
    "avg_recall = np.mean(recall_array)\n",
    "std_recall = np.std(recall_array)\n",
    "\n",
    "print(\"Average Recall: \", avg_recall)\n",
    "print(\"Variance: \", std_recall)"
   ]
  },
  {
   "cell_type": "code",
   "execution_count": 39,
   "metadata": {},
   "outputs": [
    {
     "data": {
      "text/plain": [
       "97.70114942528735"
      ]
     },
     "execution_count": 39,
     "metadata": {},
     "output_type": "execute_result"
    }
   ],
   "source": [
    "Precision = cm[1][1] / (cm[1][1] + cm[0][1])\n",
    "Precision* 100"
   ]
  },
  {
   "cell_type": "code",
   "execution_count": 43,
   "metadata": {},
   "outputs": [
    {
     "name": "stdout",
     "output_type": "stream",
     "text": [
      "Average Precision:  97.63399999999999\n",
      "Variance:  0.7366573151744301\n"
     ]
    }
   ],
   "source": [
    "precision_list = [98.83, 97.67, 97.70, 97.70, 97.70, 98.83, 96.55, 96.59, 97.67, 97.10]\n",
    "\n",
    "precision_array = np.array(precision_list)\n",
    "avg_precision = np.mean(precision_array)\n",
    "std_precision = np.std(precision_array)\n",
    "\n",
    "print(\"Average Precision: \", avg_precision)\n",
    "print(\"Variance: \", std_precision)"
   ]
  },
  {
   "cell_type": "code",
   "execution_count": 40,
   "metadata": {},
   "outputs": [
    {
     "data": {
      "text/plain": [
       "98.26589595375722"
      ]
     },
     "execution_count": 40,
     "metadata": {},
     "output_type": "execute_result"
    }
   ],
   "source": [
    "F_score = 2*(Precision*Recall)/(Precision + Recall)\n",
    "F_score * 100"
   ]
  },
  {
   "cell_type": "code",
   "execution_count": 44,
   "metadata": {},
   "outputs": [
    {
     "name": "stdout",
     "output_type": "stream",
     "text": [
      "Average F-score:  98.02399999999999\n",
      "Variance:  0.5899355897045052\n"
     ]
    }
   ],
   "source": [
    "f_score_list = [98.83, 97.67, 98.26, 98.26, 98.26, 98.83, 97.10, 97.10, 97.67, 98.26]\n",
    "f_score_array = np.array(f_score_list)\n",
    "avg_f_score = np.mean(f_score_array)\n",
    "std_f_score = np.std(f_score_array)\n",
    "\n",
    "print(\"Average F-score: \", avg_f_score)\n",
    "print(\"Variance: \", std_f_score)"
   ]
  },
  {
   "cell_type": "code",
   "execution_count": null,
   "metadata": {},
   "outputs": [],
   "source": []
  }
 ],
 "metadata": {
  "kernelspec": {
   "display_name": "tensor_env",
   "language": "python",
   "name": "python3"
  },
  "language_info": {
   "codemirror_mode": {
    "name": "ipython",
    "version": 3
   },
   "file_extension": ".py",
   "mimetype": "text/x-python",
   "name": "python",
   "nbconvert_exporter": "python",
   "pygments_lexer": "ipython3",
   "version": "3.11.5"
  },
  "orig_nbformat": 4
 },
 "nbformat": 4,
 "nbformat_minor": 2
}
